{
 "cells": [
  {
   "cell_type": "code",
   "execution_count": 1,
   "metadata": {
    "collapsed": true
   },
   "outputs": [],
   "source": [
    "import os.path\n",
    "\n",
    "import torch\n",
    "import matplotlib.pyplot as plt\n",
    "import torch.nn as nn\n"
   ]
  },
  {
   "cell_type": "code",
   "execution_count": 32,
   "outputs": [
    {
     "name": "stdout",
     "output_type": "stream",
     "text": [
      "had downloaded\n",
      "path exist\n",
      "extract finished \n"
     ]
    }
   ],
   "source": [
    "# from clint.textui import progress\n",
    "import requests\n",
    "from  tqdm import tqdm\n",
    "import zipfile\n",
    "import os\n",
    "def get_data_from_dataset(dataset:str):\n",
    "    horse2zebra_url = 'https://people.eecs.berkeley.edu/~taesung_park/CycleGAN/datasets/horse2zebra.zip'\n",
    "    res = requests.get(horse2zebra_url,stream=True)\n",
    "    total_length = int(res.headers.get('content-length'))\n",
    "    chunk_size = 1024*1024\n",
    "    zip_path='./data'\n",
    "    file_name = \"%s.zip\" % dataset\n",
    "    is_download = True\n",
    "    is_extract = True\n",
    "    if os.path.exists(file_name):\n",
    "        now_size = os.path.getsize(file_name)\n",
    "        is_download=False\n",
    "        if now_size!=total_length:\n",
    "            is_download=True\n",
    "        if is_download:\n",
    "            print(\"now downloading \")\n",
    "        else:\n",
    "            print(\"had downloaded\")\n",
    "    if is_download:\n",
    "        with open(file_name, \"wb\") as zip_file:\n",
    "            for chunk in tqdm(iterable=res.iter_content(chunk_size=chunk_size),total=total_length/chunk_size,desc=dataset,unit='MB'):\n",
    "                # print(\"write i\")\n",
    "                zip_file.write(chunk)\n",
    "    if not os.path.exists(zip_path):\n",
    "        os.makedirs(zip_path)\n",
    "    else:\n",
    "        print('path exist')\n",
    "    full_name = zip_path+'/'+dataset\n",
    "    if os.path.exists(full_name):\n",
    "        # print(\"file ex\")\n",
    "        is_extract=False\n",
    "    # print(full_name)\n",
    "    if is_extract:\n",
    "        zf = zipfile.ZipFile(file_name,mode='r')\n",
    "        for f_n in zf.namelist():\n",
    "            zf.extract(f_n,path=zip_path)\n",
    "        zf.close()\n",
    "        print(\"extract finished \")\n",
    "\n"
   ],
   "metadata": {
    "collapsed": false,
    "pycharm": {
     "name": "#%%\n"
    }
   }
  },
  {
   "cell_type": "code",
   "execution_count": null,
   "outputs": [],
   "source": [],
   "metadata": {
    "collapsed": false,
    "pycharm": {
     "name": "#%%\n"
    }
   }
  }
 ],
 "metadata": {
  "kernelspec": {
   "display_name": "Python 3",
   "language": "python",
   "name": "python3"
  },
  "language_info": {
   "codemirror_mode": {
    "name": "ipython",
    "version": 2
   },
   "file_extension": ".py",
   "mimetype": "text/x-python",
   "name": "python",
   "nbconvert_exporter": "python",
   "pygments_lexer": "ipython2",
   "version": "2.7.6"
  }
 },
 "nbformat": 4,
 "nbformat_minor": 0
}