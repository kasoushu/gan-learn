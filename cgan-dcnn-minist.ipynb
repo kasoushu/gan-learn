{
 "cells": [
  {
   "cell_type": "code",
   "execution_count": 165,
   "metadata": {
    "collapsed": true
   },
   "outputs": [],
   "source": [
    "import math\n",
    "import os.path\n",
    "import time\n",
    "from typing import Iterable\n",
    "import  torch\n",
    "import torch.nn as nn\n",
    "import torchvision\n",
    "import matplotlib.pyplot as plt\n",
    "import torch.utils.data as td"
   ]
  },
  {
   "cell_type": "markdown",
   "source": [
    "定义变量"
   ],
   "metadata": {
    "collapsed": false,
    "pycharm": {
     "name": "#%% md\n"
    }
   }
  },
  {
   "cell_type": "code",
   "execution_count": 166,
   "outputs": [],
   "source": [
    "# loading data\n",
    "def loading_minist_data(batch_siz:int, works:int)->(Iterable,Iterable):\n",
    "\n",
    "    train_set = torchvision.datasets.MNIST(root=\"./data\",train=True,transform=torchvision.transforms.ToTensor(),download=True)\n",
    "    test_set = torchvision.datasets.MNIST(root=\"./data\",train=False,transform=torchvision.transforms.ToTensor(),download=True)\n",
    "    return td.DataLoader(dataset=train_set, batch_size=batch_siz, shuffle=True, num_workers=works,drop_last=True), td.DataLoader(dataset=test_set, batch_size=batch_siz, shuffle=True, num_workers=works,drop_last=True)\n",
    "\n"
   ],
   "metadata": {
    "collapsed": false,
    "pycharm": {
     "name": "#%%\n"
    }
   }
  },
  {
   "cell_type": "code",
   "execution_count": 167,
   "outputs": [
    {
     "name": "stdout",
     "output_type": "stream",
     "text": [
      "cuda  True\n",
      "run on  cuda\n",
      "train_iter len  937\n",
      "all size  59968\n"
     ]
    }
   ],
   "source": [
    "device = torch.device(\"cuda\" if torch.cuda.is_available() else \"cpu\")\n",
    "cuda = True if torch.cuda.is_available() else False\n",
    "num_works = 4\n",
    "batch_size = 64\n",
    "img_shape  = (28,28)\n",
    "input_dim= 100\n",
    "epochs = 5\n",
    "print(\"cuda \",cuda)\n",
    "print(\"run on \",device.type)\n",
    "train_iter ,test_iter = loading_minist_data(batch_size,4)\n",
    "print(\"train_iter len \",len(train_iter))\n",
    "print(\"all size \",len(train_iter)*batch_size)\n",
    "\n",
    "# x= torch.ones(size=(2,5))\n",
    "# y =torch.randint(100,size=(2,5))\n",
    "# print(x)\n",
    "# print(y)\n",
    "# x = torch.mul(x,y)\n",
    "# x\n",
    "# em = nn.Embedding(10,10)\n",
    "# x = torch.randint(10,size=(16,1))\n",
    "# print(x)"
   ],
   "metadata": {
    "collapsed": false,
    "pycharm": {
     "name": "#%%\n"
    }
   }
  },
  {
   "cell_type": "code",
   "execution_count": 168,
   "outputs": [],
   "source": [
    "\n",
    "class View(nn.Module):\n",
    "    def __init__(self, shape):\n",
    "        super().__init__()\n",
    "        self.shape = shape,\n",
    "\n",
    "    def forward(self, x):\n",
    "        return x.view(*self.shape)\n",
    "\n",
    "class Discriminator(nn.Module):\n",
    "    def __init__(self):\n",
    "        super().__init__()\n",
    "        self.model = nn.Sequential(\n",
    "            # 2*28*28 to 64*14*14\n",
    "            nn.Conv2d(2,64,kernel_size=3,stride=2,padding=1),\n",
    "            nn.LeakyReLU(0.01),\n",
    "            # 64*14*14 to 64*7*7\n",
    "            nn.Conv2d(64,64,kernel_size=3,padding=1,stride=2),\n",
    "            nn.BatchNorm2d(64),\n",
    "            nn.LeakyReLU(0.01),\n",
    "            # to 128*3*3\n",
    "            nn.Conv2d(64,128,kernel_size=3,stride=2),\n",
    "            nn.BatchNorm2d(128),\n",
    "            nn.LeakyReLU(0.01),\n",
    "            nn.Flatten(),\n",
    "            nn.Linear(128*3*3,1),\n",
    "            nn.Sigmoid(),\n",
    "        ).to(device)\n",
    "        self.running_loss=0\n",
    "        self.embedding = nn.Embedding(10,math.prod(img_shape)).to(device)\n",
    "        self.loss_func = nn.BCELoss()\n",
    "        self.loss_metric=[]\n",
    "        self.optimizer = torch.optim.Adam(self.parameters(),lr=0.001)\n",
    "        pass\n",
    "    def forward(self,inputs,labels):\n",
    "        label_embedding = self.embedding(labels)\n",
    "        label_embedding = label_embedding.view(batch_size,1,28,28)\n",
    "        inputs = torch.cat((inputs,label_embedding),1)\n",
    "        # print(\"label shape \",label_embedding.shape)\n",
    "        # print(\"input shape \",inputs.shape)\n",
    "        for op in  self.model:\n",
    "            # print(inputs.shape)\n",
    "            inputs = op(inputs)\n",
    "        return inputs\n",
    "    def train(self,inputs,labels,targets):\n",
    "        out = self.forward(inputs,labels)\n",
    "        loss = self.loss_func(out,targets)\n",
    "        self.running_loss += loss.detach().item()\n",
    "        self.optimizer.zero_grad()\n",
    "        loss.backward()\n",
    "        self.optimizer.step()\n",
    "        pass\n",
    "    def evaluate_loss(self):\n",
    "        ts = self.running_loss/(len(train_iter)*batch_size)\n",
    "        self.loss_metric.append(ts)\n",
    "\n",
    "        self.running_loss=0\n",
    "\n",
    "        pass\n",
    "class Generator(nn.Module):\n",
    "    def __init__(self,in_dim:int):\n",
    "        super(Generator, self).__init__()\n",
    "        self.model = nn.Sequential(\n",
    "            nn.Linear(in_dim,256*7*7),\n",
    "            View( shape=(batch_size,256,7,7) ),\n",
    "            # 256*7*7 -> 128*14*14\n",
    "            # 7 + (2-1)*6 +\n",
    "            nn.ConvTranspose2d(256,128,kernel_size=4,stride=2,padding=1),\n",
    "            nn.BatchNorm2d(128),\n",
    "            nn.LeakyReLU(0.01),\n",
    "            # to 64*14*14\n",
    "            nn.ConvTranspose2d(128,64,kernel_size=3,stride=1,padding=1),\n",
    "            nn.BatchNorm2d(64),\n",
    "            nn.LeakyReLU(0.01),\n",
    "            # to 1*28*28\n",
    "            nn.ConvTranspose2d(64,1,kernel_size=4,padding=1,stride=2),\n",
    "            nn.Tanh()\n",
    "        ).to(device)\n",
    "        self.embedding = nn.Embedding(10,in_dim).to(device)\n",
    "        self.optimiser = torch.optim.Adam(self.parameters(), lr=0.0001)\n",
    "        # counter and accumulator for progress\n",
    "        self.loss_metric = []\n",
    "        self.running_loss =0\n",
    "    def forward(self,inputs,labels):\n",
    "        label_embedding = self.embedding(labels).squeeze(dim=1)\n",
    "        # print(\"label emdedding\",label_embedding.shape)\n",
    "        inputs = torch.mul(inputs,label_embedding)\n",
    "        # print(inputs.shape)\n",
    "        for op in  self.model:\n",
    "            # print(inputs.shape)\n",
    "            inputs = op(inputs)\n",
    "        return  inputs\n",
    "    def train(self,D:Discriminator,labels,inputs,targets):\n",
    "        gen_out = self.forward(inputs,labels)\n",
    "        # print(gen_out.shape)\n",
    "        d_out = D.forward(gen_out,labels)\n",
    "        loss  = D.loss_func(d_out,targets)\n",
    "        self.running_loss += loss.detach().item()\n",
    "        # print(self.running_loss)\n",
    "        self.optimiser.zero_grad()\n",
    "        loss.backward()\n",
    "        self.optimiser.step()\n",
    "    def evaluate_loss(self):\n",
    "        print(\"G running loss \",self.running_loss)\n",
    "        ts = self.running_loss/(len(train_iter)*batch_size)\n",
    "        self.loss_metric.append(ts)\n",
    "        self.running_loss=0\n",
    "        pass\n",
    "def generate_random_seed(size):\n",
    "    random_data = torch.randn(size*batch_size).view(batch_size,size)\n",
    "    return random_data.to(device)\n"
   ],
   "metadata": {
    "collapsed": false,
    "pycharm": {
     "name": "#%%\n"
    }
   }
  },
  {
   "cell_type": "code",
   "execution_count": 169,
   "outputs": [],
   "source": [
    "# G = Generator(in_dim=input_dim)\n",
    "# z = generate_random_seed(input_dim)\n",
    "# la = torch.randint(10,size=(batch_size,1))\n",
    "# print(\"z shape {},la shape {}\".format(z.shape,la.shape) )\n",
    "# G.forward(z,la)\n",
    "# for it ,l in train_iter:\n",
    "#     it = it.to(device)\n",
    "#     y = torch.ones(size=(64,1),dtype=torch.float32)\n",
    "#     y = y.to(device)\n",
    "#     D.train(it,l,y)\n",
    "#     break\n"
   ],
   "metadata": {
    "collapsed": false,
    "pycharm": {
     "name": "#%%\n"
    }
   }
  },
  {
   "cell_type": "code",
   "execution_count": 170,
   "outputs": [],
   "source": [
    "# D = Discriminator()\n",
    "# for k in  range(3):\n",
    "#     time_start = time.time()\n",
    "#     for it,l in train_iter:\n",
    "#         it = it.to(device)\n",
    "#         y = torch.ones(size=(64,1),dtype=torch.float32)\n",
    "#         y = y.to(device)\n",
    "#         D.train(it,l,y)\n",
    "#     # print(len(train_iter)*batch_size)\n",
    "#     print(\"spend time  : \",time.time()-time_start)\n",
    "#     print(D.running_loss/(len(train_iter)*batch_size))\n",
    "#     D.running_loss =0\n",
    "\n"
   ],
   "metadata": {
    "collapsed": false,
    "pycharm": {
     "name": "#%%\n"
    }
   }
  },
  {
   "cell_type": "code",
   "execution_count": 171,
   "outputs": [
    {
     "name": "stdout",
     "output_type": "stream",
     "text": [
      "generate nums is run on  cuda:0\n"
     ]
    },
    {
     "data": {
      "text/plain": "<matplotlib.image.AxesImage at 0x1b5f6694e20>"
     },
     "execution_count": 171,
     "metadata": {},
     "output_type": "execute_result"
    },
    {
     "data": {
      "text/plain": "<Figure size 432x288 with 1 Axes>",
      "image/png": "[encoded data removed]"
     },
     "metadata": {
      "needs_background": "light"
     },
     "output_type": "display_data"
    }
   ],
   "source": [
    "G = Generator(input_dim)\n",
    "x = generate_random_seed(input_dim).to(device)\n",
    "print(\"generate nums is run on \",x.device)\n",
    "labels =  torch.randint(10,size=(batch_size,1)).to(device)\n",
    "output = G.forward(x,labels)\n",
    "# img = output.detach().numpy().reshape(28,28)\n",
    "plt.imshow(output.cpu().detach().numpy()[0][0], interpolation='none', cmap='Blues')"
   ],
   "metadata": {
    "collapsed": false,
    "pycharm": {
     "name": "#%%\n"
    }
   }
  },
  {
   "cell_type": "code",
   "execution_count": 172,
   "outputs": [
    {
     "name": "stdout",
     "output_type": "stream",
     "text": [
      "epoch  1 of 5  \n",
      "G running loss  7728.0572428405285\n",
      "spend time 43.05889892578125   D loss 0.0008422273822510916 ,G loss 0.12886968454576656 \n",
      "epoch  2 of 5  \n",
      "G running loss  8417.845541894436\n",
      "spend time 44.8680624961853   D loss 0.0005090757702762886 ,G loss 0.14037229092006465 \n",
      "epoch  3 of 5  \n",
      "G running loss  8882.980771899223\n",
      "spend time 46.0708487033844   D loss 0.0004091275333556173 ,G loss 0.1481286814951178 \n",
      "epoch  4 of 5  \n",
      "G running loss  8169.896030187607\n",
      "spend time 45.798776388168335   D loss 0.0007869404305636363 ,G loss 0.13623759388653292 \n",
      "epoch  5 of 5  \n",
      "G running loss  8573.96366174519\n",
      "spend time 46.544580698013306   D loss 0.0011622999591378777 ,G loss 0.14297564804137525 \n",
      "CPU times: total: 3min 33s\n",
      "Wall time: 3min 46s\n"
     ]
    }
   ],
   "source": [
    "%%time\n",
    "D = Discriminator()\n",
    "G = Generator(input_dim)\n",
    "i = 0\n",
    "\n",
    "try:\n",
    "    save_info = torch.load(\"cgan.pkl\")\n",
    "except Exception:\n",
    "    pass\n",
    "else:\n",
    "    i = save_info[\"epoch\"]\n",
    "    D.model.load_state_dict(save_info['d_state'])\n",
    "    G.model.load_state_dict(save_info['g_state'])\n",
    "img_path = \"img/cgan\"\n",
    "if not os.path.exists(img_path):\n",
    "    os.makedirs(img_path)\n",
    "\n",
    "while i < epochs:\n",
    "    print(\"epoch  {} of {}  \".format(i+1,epochs))\n",
    "    true_tar= torch.ones(size=(batch_size,1),dtype=torch.float32).to(device)\n",
    "    fake_tar = torch.zeros(size=(batch_size,1),dtype=torch.float32).to(device)\n",
    "    time_start = time.time()\n",
    "    for tr_item,labels in train_iter:\n",
    "        # print(labels.shape)\n",
    "        # print(G.embedding(labels).shape)\n",
    "        tr_item = tr_item.to(device)\n",
    "        labels = labels.to(device)\n",
    "        gen_item = generate_random_seed(input_dim).to(device)\n",
    "        gen_label = torch.randint(10,size=(batch_size,)).to(device)\n",
    "        # print(gen_label.shape)\n",
    "        # tran true label\n",
    "        D.train(tr_item,labels,true_tar)\n",
    "        # train fake generator\n",
    "        D.train(G.forward(gen_item,labels).detach(),labels,fake_tar)\n",
    "        #\n",
    "        G.train(D,gen_label,gen_item,true_tar)\n",
    "    D.evaluate_loss()\n",
    "    G.evaluate_loss()\n",
    "    print(\"spend time {}   D loss {} ,G loss {} \".format(time.time()-time_start,D.loss_metric[i],G.loss_metric[i]))\n",
    "    if i%10==0:\n",
    "        torch.save({\"epoch\":i,'d_state':D.model.state_dict(),'g_state':G.model.state_dict()},\"cgan.pkl\")\n",
    "    if i%5==0:\n",
    "        gen_label = torch.randint(10,size=(batch_size,)).to(device)\n",
    "        gen_item = generate_random_seed(input_dim).to(device)\n",
    "        out = G.forward(gen_item,gen_label)\n",
    "        torchvision.utils.save_image(out,\"{}/epoch{}.png\".format(img_path,i))\n",
    "    i+=1\n"
   ],
   "metadata": {
    "collapsed": false,
    "pycharm": {
     "name": "#%%\n"
    }
   }
  },
  {
   "cell_type": "code",
   "execution_count": 173,
   "outputs": [
    {
     "data": {
      "text/plain": "<Figure size 432x288 with 10 Axes>",
      "image/png": "[encoded data removed]"
     },
     "metadata": {
      "needs_background": "light"
     },
     "output_type": "display_data"
    }
   ],
   "source": [
    "z = generate_random_seed(input_dim).to(device)\n",
    "labels = torch.randint(10,size=(batch_size,)).to(device)\n",
    "output = G.forward(z,labels)\n",
    "img = output.detach().cpu().numpy().reshape(64,28,28)\n",
    "for i in range(10):\n",
    "    # print(labels[i])\n",
    "    plt.subplot(2,5,i+1)\n",
    "    plt.imshow(img[i], interpolation='none', cmap='Blues')\n",
    "    plt.title(\"img%d\"%(labels[i]))\n",
    "    # print()"
   ],
   "metadata": {
    "collapsed": false,
    "pycharm": {
     "name": "#%%\n"
    }
   }
  },
  {
   "cell_type": "code",
   "execution_count": 174,
   "outputs": [],
   "source": [
    "# f,axarr = plt.subplots(2,3, figsize=(16,8))\n",
    "# for i in range(2):\n",
    "#     for j in range(3):\n",
    "#         output = G.forward(generate_random_seed(input_dim))\n",
    "#         img = output.detach().cpu().numpy()[i*3+j].reshape(28,28)\n",
    "#         axarr[i,j].imshow(img, interpolation='none', cmap='Blues')\n",
    "\n",
    "# for it,_ in train_iter:\n",
    "    # plt.imshow(it[0].reshape(28,28),cmap=\"Blues\")\n",
    "    # break"
   ],
   "metadata": {
    "collapsed": false,
    "pycharm": {
     "name": "#%%\n"
    }
   }
  },
  {
   "cell_type": "code",
   "execution_count": 174,
   "outputs": [],
   "source": [],
   "metadata": {
    "collapsed": false,
    "pycharm": {
     "name": "#%%\n"
    }
   }
  },
  {
   "cell_type": "code",
   "execution_count": 174,
   "outputs": [],
   "source": [],
   "metadata": {
    "collapsed": false,
    "pycharm": {
     "name": "#%%\n"
    }
   }
  }
 ],
 "metadata": {
  "kernelspec": {
   "display_name": "Python 3",
   "language": "python",
   "name": "python3"
  },
  "language_info": {
   "codemirror_mode": {
    "name": "ipython",
    "version": 2
   },
   "file_extension": ".py",
   "mimetype": "text/x-python",
   "name": "python",
   "nbconvert_exporter": "python",
   "pygments_lexer": "ipython2",
   "version": "2.7.6"
  }
 },
 "nbformat": 4,
 "nbformat_minor": 0
}