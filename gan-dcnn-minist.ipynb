{
 "cells": [
  {
   "cell_type": "code",
   "execution_count": 53,
   "metadata": {
    "collapsed": true
   },
   "outputs": [],
   "source": [
    "import time\n",
    "\n",
    "import  torch\n",
    "import torch.nn as nn\n",
    "import torchvision\n",
    "import matplotlib.pyplot as plt\n",
    "import torch.utils.data as td"
   ]
  },
  {
   "cell_type": "markdown",
   "source": [
    "定义变量"
   ],
   "metadata": {
    "collapsed": false,
    "pycharm": {
     "name": "#%% md\n"
    }
   }
  },
  {
   "cell_type": "code",
   "execution_count": 54,
   "outputs": [
    {
     "name": "stdout",
     "output_type": "stream",
     "text": [
      "run on  cuda\n"
     ]
    }
   ],
   "source": [
    "device = torch.device(\"cuda\" if torch.cuda.is_available() else \"cpu\")\n",
    "num_works = 4\n",
    "batch_size = 64\n",
    "input_dim= 100\n",
    "epochs = 25\n",
    "print(\"run on \",device.type)"
   ],
   "metadata": {
    "collapsed": false,
    "pycharm": {
     "name": "#%%\n"
    }
   }
  },
  {
   "cell_type": "code",
   "execution_count": 55,
   "outputs": [],
   "source": [
    "from typing import Iterable\n",
    "\n",
    "\n",
    "# loading data\n",
    "def loading_minist_data(batch_siz:int, works:int)->(Iterable,Iterable):\n",
    "\n",
    "    train_set = torchvision.datasets.MNIST(root=\"./data\",train=True,transform=torchvision.transforms.ToTensor(),download=True)\n",
    "    test_set = torchvision.datasets.MNIST(root=\"./data\",train=False,transform=torchvision.transforms.ToTensor(),download=True)\n",
    "    return td.DataLoader(dataset=train_set, batch_size=batch_siz, shuffle=True, num_workers=works,drop_last=True), td.DataLoader(dataset=test_set, batch_size=batch_siz, shuffle=True, num_workers=works,drop_last=True)\n",
    "\n",
    "train_iter ,test_iter = loading_minist_data(batch_size,4)\n"
   ],
   "metadata": {
    "collapsed": false,
    "pycharm": {
     "name": "#%%\n"
    }
   }
  },
  {
   "cell_type": "code",
   "execution_count": 56,
   "outputs": [
    {
     "name": "stdout",
     "output_type": "stream",
     "text": [
      "train_iter len  937\n",
      "all size  59968\n"
     ]
    }
   ],
   "source": [
    "print(\"train_iter len \",len(train_iter))\n",
    "print(\"all size \",len(train_iter)*batch_size)"
   ],
   "metadata": {
    "collapsed": false,
    "pycharm": {
     "name": "#%%\n"
    }
   }
  },
  {
   "cell_type": "code",
   "execution_count": 57,
   "outputs": [],
   "source": [
    "class View(nn.Module):\n",
    "    def __init__(self, shape):\n",
    "        super().__init__()\n",
    "        self.shape = shape,\n",
    "\n",
    "    def forward(self, x):\n",
    "        return x.view(*self.shape)\n",
    "\n",
    "class Discriminator(nn.Module):\n",
    "    def __init__(self):\n",
    "        super().__init__()\n",
    "        self.model = nn.Sequential(\n",
    "            nn.Conv2d(1,32,kernel_size=3,stride=2,padding=1),\n",
    "            nn.LeakyReLU(0.01),\n",
    "            nn.Conv2d(32,64,kernel_size=3,padding=1,stride=2),\n",
    "            nn.BatchNorm2d(64),\n",
    "            nn.LeakyReLU(0.01),\n",
    "            nn.Conv2d(64,128,kernel_size=3,stride=2),\n",
    "            nn.BatchNorm2d(128),\n",
    "            nn.LeakyReLU(0.01),\n",
    "            nn.Flatten(),\n",
    "            nn.Linear(128*3*3,1),\n",
    "            nn.Sigmoid(),\n",
    "        ).to(device)\n",
    "        self.cnt=0\n",
    "        self.running_loss=0\n",
    "        self.loss_func = nn.BCELoss()\n",
    "        self.loss_metric=[]\n",
    "        self.optimizer = torch.optim.Adam(self.parameters(),lr=0.001)\n",
    "        pass\n",
    "    def forward(self,inputs):\n",
    "        for op in  self.model:\n",
    "            # print(inputs.shape)\n",
    "            inputs = op(inputs)\n",
    "        return inputs\n",
    "    def train(self,inputs,targets):\n",
    "        out = self.forward(inputs)\n",
    "        loss = self.loss_func(out,targets)\n",
    "        self.running_loss += loss.detach().item()\n",
    "        self.optimizer.zero_grad()\n",
    "        loss.backward()\n",
    "        self.optimizer.step()\n",
    "        pass\n",
    "    def evaluate_loss(self):\n",
    "        ts = self.running_loss/(len(train_iter)*batch_size)\n",
    "        self.loss_metric.append(ts)\n",
    "\n",
    "        self.running_loss=0\n",
    "\n",
    "        pass\n",
    "class Generator(nn.Module):\n",
    "    def __init__(self,in_dim:int):\n",
    "        super(Generator, self).__init__()\n",
    "        self.model = nn.Sequential(\n",
    "            # nn.Linear(in_dim, 200),\n",
    "            # nn.LeakyReLU(0.02),\n",
    "            # # nn.LayerNorm(200),\n",
    "            # nn.LayerNorm(200),\n",
    "            # nn.Linear(200, 784),\n",
    "            # nn.ReLU(True),\n",
    "            # nn.Linear(256,28*28),\n",
    "            # nn.Tanh()\n",
    "            nn.Linear(in_dim,256*7*7),\n",
    "            View( shape=(batch_size,256,7,7)),\n",
    "            # 256*7*7 -> 128*14*14\n",
    "            # 7 + (2-1)*6 +\n",
    "            nn.ConvTranspose2d(256,128,kernel_size=4,stride=2,padding=1),\n",
    "            nn.BatchNorm2d(128),\n",
    "            nn.LeakyReLU(0.01),\n",
    "            nn.ConvTranspose2d(128,64,kernel_size=3,stride=1,padding=1),\n",
    "            nn.BatchNorm2d(64),\n",
    "            nn.LeakyReLU(0.01),\n",
    "            nn.ConvTranspose2d(64,1,kernel_size=4,padding=1,stride=2),\n",
    "            nn.Tanh()\n",
    "        ).to(device)\n",
    "        self.optimiser = torch.optim.Adam(self.parameters(), lr=0.0001)\n",
    "        # counter and accumulator for progress\n",
    "        self.loss_metric = []\n",
    "        self.running_loss =0\n",
    "    def forward(self,inputs):\n",
    "        for op in  self.model:\n",
    "            # print(inputs.shape)\n",
    "            inputs = op(inputs)\n",
    "        return  inputs\n",
    "    def train(self,D:Discriminator,inputs,targets):\n",
    "        gen_out = self.forward(inputs)\n",
    "        # print(gen_out.shape)\n",
    "        d_out = D.forward(gen_out)\n",
    "        loss  = D.loss_func(d_out,targets)\n",
    "        self.running_loss += loss.detach().item()\n",
    "        # print(self.running_loss)\n",
    "        self.optimiser.zero_grad()\n",
    "        loss.backward()\n",
    "        self.optimiser.step()\n",
    "    def evaluate_loss(self):\n",
    "        print(\"G running loss \",self.running_loss)\n",
    "        ts = self.running_loss/(len(train_iter)*batch_size)\n",
    "        self.loss_metric.append(ts)\n",
    "        self.running_loss=0\n",
    "        pass\n",
    "def generate_random_seed(size):\n",
    "    random_data = torch.randn(size*batch_size).view(batch_size,size)\n",
    "    return random_data.to(device)\n"
   ],
   "metadata": {
    "collapsed": false,
    "pycharm": {
     "name": "#%%\n"
    }
   }
  },
  {
   "cell_type": "code",
   "execution_count": 58,
   "outputs": [
    {
     "data": {
      "text/plain": "tensor([[[[-0.8083, -0.9254, -0.8693,  ..., -0.9192, -0.9123, -0.9312],\n          [-0.1192, -0.9859,  0.7342,  ..., -0.9711, -0.7799, -0.0288],\n          [-0.9259, -0.8975, -0.6515,  ..., -0.9322, -0.4463, -0.9535],\n          ...,\n          [-0.8697, -0.7823, -0.9150,  ..., -0.5105, -0.3685, -0.6806],\n          [-0.8797, -0.6988,  0.1512,  ..., -0.9768,  0.9203, -0.9263],\n          [-0.6111, -0.6329, -0.6898,  ..., -0.0615, -0.9294,  0.0532]]],\n\n\n        [[[-0.4912, -0.9585, -0.9734,  ..., -0.9726, -0.9031, -0.5687],\n          [-0.6132, -0.7905, -0.6585,  ..., -0.9930, -0.5618,  0.1576],\n          [-0.9745, -0.9002, -0.7374,  ..., -0.9843, -0.7116, -0.9864],\n          ...,\n          [-0.1215, -0.9686, -0.9740,  ...,  0.1827, -0.2012, -0.2143],\n          [-0.9838, -0.9589, -0.3384,  ..., -0.9716,  0.9578, -0.5538],\n          [-0.4587, -0.0880, -0.4458,  ...,  0.0152, -0.3067, -0.3181]]],\n\n\n        [[[-0.3632,  0.1292, -0.9722,  ...,  0.0152, -0.7663, -0.4403],\n          [-0.4031, -0.9296,  0.9617,  ..., -0.4828, -0.9200,  0.5931],\n          [-0.8262, -0.4676,  0.4136,  ..., -0.9994, -0.9012, -0.9310],\n          ...,\n          [-0.3613, -0.9828,  0.6332,  ..., -0.4679, -0.9977, -0.7334],\n          [-0.9461,  0.2629, -0.6958,  ..., -0.9844, -0.8602, -0.8316],\n          [ 0.4234,  0.0133, -0.8405,  ...,  0.0476, -0.7541, -0.0113]]],\n\n\n        ...,\n\n\n        [[[-0.8878, -0.9588, -0.9087,  ..., -0.7963, -0.9644, -0.4730],\n          [ 0.0120, -0.9235,  0.7842,  ..., -0.3522, -0.6231, -0.0963],\n          [-0.8432,  0.4979,  0.0160,  ..., -0.9966, -0.5031, -0.8536],\n          ...,\n          [-0.3366, -0.9189, -0.9475,  ..., -0.5753, -0.9175,  0.7945],\n          [-0.7418, -0.9565, -0.7526,  ..., -0.8511,  0.9815, -0.7845],\n          [-0.0324, -0.8474, -0.4930,  ...,  0.0010, -0.9540, -0.2370]]],\n\n\n        [[[-0.5755, -0.7616, -0.9161,  ..., -0.9887, -0.7869, -0.9286],\n          [-0.0370,  0.8740, -0.7862,  ..., -0.8492, -0.9090,  0.3928],\n          [-0.9179, -0.9325, -0.4446,  ..., -0.9847, -0.9885, -0.9936],\n          ...,\n          [-0.4668, -0.3458, -0.3067,  ..., -0.5196, -0.9700, -0.4477],\n          [-0.9939, -0.7684,  0.5067,  ..., -0.9852, -0.0567, -0.7074],\n          [-0.5999, -0.5486, -0.7895,  ...,  0.3578, -0.8875,  0.0810]]],\n\n\n        [[[-0.9040, -0.0276, -0.9263,  ..., -0.9753, -0.8045, -0.8499],\n          [-0.4155, -0.7975, -0.7109,  ..., -0.7848,  0.4438, -0.6251],\n          [-0.8877, -0.9578, -0.9274,  ..., -0.9978,  0.6238, -0.9682],\n          ...,\n          [-0.7689, -0.9529, -0.8236,  ..., -0.8664, -0.2757, -0.2737],\n          [-0.9531, -0.9933, -0.9941,  ..., -0.9198, -0.1287, -0.9827],\n          [-0.5621, -0.9395, -0.4955,  ..., -0.6200, -0.8082, -0.6825]]]],\n       device='cuda:0', grad_fn=<TanhBackward0>)"
     },
     "execution_count": 58,
     "metadata": {},
     "output_type": "execute_result"
    }
   ],
   "source": [
    "G = Generator(in_dim=input_dim)\n",
    "G.forward(generate_random_seed(input_dim))"
   ],
   "metadata": {
    "collapsed": false,
    "pycharm": {
     "name": "#%%\n"
    }
   }
  },
  {
   "cell_type": "code",
   "execution_count": 59,
   "outputs": [
    {
     "name": "stdout",
     "output_type": "stream",
     "text": [
      "1.7112986990155347e-05\n",
      "3.7827784565592265e-08\n",
      "1.1790510182794584e-08\n"
     ]
    }
   ],
   "source": [
    "D = Discriminator()\n",
    "\n",
    "for k in  range(3):\n",
    "    for it,_ in train_iter:\n",
    "        it = it.to(device)\n",
    "        y = torch.ones(size=(64,1),dtype=torch.float32)\n",
    "        y = y.to(device)\n",
    "        D.train(it,y)\n",
    "    # print(len(train_iter)*batch_size)\n",
    "    print(D.running_loss/(len(train_iter)*batch_size))\n",
    "    D.running_loss =0"
   ],
   "metadata": {
    "collapsed": false,
    "pycharm": {
     "name": "#%%\n"
    }
   }
  },
  {
   "cell_type": "code",
   "execution_count": 60,
   "outputs": [
    {
     "name": "stdout",
     "output_type": "stream",
     "text": [
      "generate nums is run on  cuda:0\n"
     ]
    },
    {
     "data": {
      "text/plain": "<matplotlib.image.AxesImage at 0x1bf8cb21a80>"
     },
     "execution_count": 60,
     "metadata": {},
     "output_type": "execute_result"
    },
    {
     "data": {
      "text/plain": "<Figure size 432x288 with 1 Axes>",
      "image/png": "[encoded data removed]"
     },
     "metadata": {
      "needs_background": "light"
     },
     "output_type": "display_data"
    }
   ],
   "source": [
    "G = Generator(input_dim)\n",
    "\n",
    "print(\"generate nums is run on \",generate_random_seed(input_dim).device)\n",
    "\n",
    "output = G.forward(generate_random_seed(input_dim))\n",
    "# img = output.detach().numpy().reshape(28,28)\n",
    "plt.imshow(output.cpu().detach().numpy()[0][0], interpolation='none', cmap='Blues')"
   ],
   "metadata": {
    "collapsed": false,
    "pycharm": {
     "name": "#%%\n"
    }
   }
  },
  {
   "cell_type": "code",
   "execution_count": 61,
   "outputs": [
    {
     "name": "stdout",
     "output_type": "stream",
     "text": [
      "epoch  1 of 25  \n",
      "G running loss  8726.190867483616\n",
      "spend time 41.48455476760864   D loss 7.460138416217439e-05 ,G loss 0.14551412198978816 \n",
      "epoch  2 of 25  \n",
      "G running loss  6615.596367239952\n",
      "spend time 40.777957916259766   D loss 0.0007215254595780207 ,G loss 0.11031877613460432 \n",
      "epoch  3 of 25  \n",
      "G running loss  7429.736074209213\n",
      "spend time 40.77895522117615   D loss 0.0004622701544403661 ,G loss 0.1238950119098388 \n",
      "epoch  4 of 25  \n",
      "G running loss  7172.342683014885\n",
      "spend time 41.33247423171997   D loss 0.0019904897232418317 ,G loss 0.11960283289445846 \n",
      "epoch  5 of 25  \n",
      "G running loss  7571.582343220711\n",
      "spend time 41.84709930419922   D loss 0.00036988236974185473 ,G loss 0.12626037792190353 \n",
      "epoch  6 of 25  \n",
      "G running loss  8156.4493370410055\n",
      "spend time 42.4704315662384   D loss 0.0006377390747303332 ,G loss 0.13601336274414697 \n",
      "epoch  7 of 25  \n",
      "G running loss  9330.937313079834\n",
      "spend time 41.9288809299469   D loss 3.039189877244542e-05 ,G loss 0.15559860780882862 \n",
      "epoch  8 of 25  \n",
      "G running loss  7825.47717320919\n",
      "spend time 42.0625216960907   D loss 0.000853994411022449 ,G loss 0.1304942164689366 \n",
      "epoch  9 of 25  \n",
      "G running loss  8104.7611384391785\n",
      "spend time 42.43951439857483   D loss 0.0002574510541552238 ,G loss 0.1351514330716245 \n",
      "epoch  10 of 25  \n",
      "G running loss  7800.735139246998\n",
      "spend time 41.83014488220215   D loss 0.004410463495007668 ,G loss 0.13008162918968447 \n",
      "epoch  11 of 25  \n",
      "G running loss  8590.344676077366\n",
      "spend time 43.013978481292725   D loss 0.0003800923771590362 ,G loss 0.14324881063362738 \n",
      "epoch  12 of 25  \n",
      "G running loss  8826.049474716187\n",
      "spend time 47.073123931884766   D loss 7.000097950111183e-05 ,G loss 0.14717932021605168 \n",
      "epoch  13 of 25  \n",
      "G running loss  8845.393166285608\n",
      "spend time 47.29852080345154   D loss 0.011617517360072997 ,G loss 0.14750188711121945 \n",
      "epoch  14 of 25  \n",
      "G running loss  7849.46678853035\n",
      "spend time 44.78378701210022   D loss 0.0004588368193321933 ,G loss 0.13089425674577024 \n",
      "epoch  15 of 25  \n",
      "G running loss  9885.898952960968\n",
      "spend time 45.55435848236084   D loss 4.355107682129547e-05 ,G loss 0.16485290409820183 \n",
      "epoch  16 of 25  \n",
      "G running loss  11159.36255645752\n",
      "spend time 44.495508670806885   D loss 3.818265732573567e-05 ,G loss 0.18608862320666889 \n",
      "epoch  17 of 25  \n",
      "G running loss  9884.538903713226\n",
      "spend time 48.354971408843994   D loss 0.00019880965904206375 ,G loss 0.16483022451496177 \n",
      "epoch  18 of 25  \n",
      "G running loss  11035.85569691658\n",
      "spend time 46.60383915901184   D loss 0.00047059545009884885 ,G loss 0.1840290771230753 \n",
      "epoch  19 of 25  \n",
      "G running loss  9228.163639068604\n",
      "spend time 44.93583869934082   D loss 9.397675734046646e-05 ,G loss 0.15388479921072246 \n",
      "epoch  20 of 25  \n",
      "G running loss  8791.04160386324\n",
      "spend time 45.54520916938782   D loss 0.0006780424342057144 ,G loss 0.14659554435470984 \n",
      "epoch  21 of 25  \n",
      "G running loss  9682.90400505066\n",
      "spend time 44.88996195793152   D loss 4.647210974011063e-05 ,G loss 0.16146784960396643 \n",
      "epoch  22 of 25  \n",
      "G running loss  8375.270016773607\n",
      "spend time 44.88198447227478   D loss 0.0022070172214505774 ,G loss 0.13966232018365807 \n",
      "epoch  23 of 25  \n",
      "G running loss  8506.648139357567\n",
      "spend time 44.262638092041016   D loss 0.00039973568045540266 ,G loss 0.14185312398875344 \n",
      "epoch  24 of 25  \n",
      "G running loss  10528.422267913818\n",
      "spend time 44.32846426963806   D loss 1.6864250589662742e-05 ,G loss 0.1755673403800997 \n",
      "epoch  25 of 25  \n",
      "G running loss  9661.277566552162\n",
      "spend time 46.92950963973999   D loss 0.0004952638572239211 ,G loss 0.1611072166247359 \n",
      "CPU times: total: 17min 14s\n",
      "Wall time: 18min 19s\n"
     ]
    }
   ],
   "source": [
    "%%time\n",
    "D = Discriminator()\n",
    "G = Generator(input_dim)\n",
    "for i in range(epochs):\n",
    "    print(\"epoch  {} of {}  \".format(i+1,epochs))\n",
    "    time_start = time.time()\n",
    "    for tr_item,_ in train_iter:\n",
    "        tr_item = tr_item.to(device)\n",
    "        true_label = torch.ones(size=(batch_size,1),dtype=torch.float32).to(device)\n",
    "        fake_label = torch.zeros(size=(batch_size,1),dtype=torch.float32).to(device)\n",
    "        D.train(tr_item,true_label)\n",
    "\n",
    "        D.train(G.forward(generate_random_seed(input_dim)).detach() , fake_label)\n",
    "        #\n",
    "        G.train(D,generate_random_seed(input_dim),true_label)\n",
    "    D.evaluate_loss()\n",
    "    G.evaluate_loss()\n",
    "    print(\"spend time {}   D loss {} ,G loss {} \".format(time.time()-time_start,D.loss_metric[i],G.loss_metric[i]))\n",
    "\n",
    "        # break"
   ],
   "metadata": {
    "collapsed": false,
    "pycharm": {
     "name": "#%%\n"
    }
   }
  },
  {
   "cell_type": "code",
   "execution_count": 62,
   "outputs": [
    {
     "data": {
      "text/plain": "<matplotlib.image.AxesImage at 0x1bf88f70e20>"
     },
     "execution_count": 62,
     "metadata": {},
     "output_type": "execute_result"
    },
    {
     "data": {
      "text/plain": "<Figure size 432x288 with 1 Axes>",
      "image/png": "[encoded data removed]"
     },
     "metadata": {
      "needs_background": "light"
     },
     "output_type": "display_data"
    }
   ],
   "source": [
    "output = G.forward(generate_random_seed(input_dim))\n",
    "img = output.detach().cpu().numpy().reshape(64,28,28)\n",
    "plt.imshow(img[9], interpolation='none', cmap='Blues')"
   ],
   "metadata": {
    "collapsed": false,
    "pycharm": {
     "name": "#%%\n"
    }
   }
  },
  {
   "cell_type": "code",
   "execution_count": 63,
   "outputs": [
    {
     "data": {
      "text/plain": "<Figure size 1152x576 with 6 Axes>",
      "image/png": "[encoded data removed]"
     },
     "metadata": {
      "needs_background": "light"
     },
     "output_type": "display_data"
    }
   ],
   "source": [
    "f,axarr = plt.subplots(2,3, figsize=(16,8))\n",
    "for i in range(2):\n",
    "    for j in range(3):\n",
    "        output = G.forward(generate_random_seed(input_dim))\n",
    "        img = output.detach().cpu().numpy()[i*3+j].reshape(28,28)\n",
    "        axarr[i,j].imshow(img, interpolation='none', cmap='Blues')\n",
    "\n",
    "# for it,_ in train_iter:\n",
    "    # plt.imshow(it[0].reshape(28,28),cmap=\"Blues\")\n",
    "    # break"
   ],
   "metadata": {
    "collapsed": false,
    "pycharm": {
     "name": "#%%\n"
    }
   }
  },
  {
   "cell_type": "code",
   "execution_count": 63,
   "outputs": [],
   "source": [],
   "metadata": {
    "collapsed": false,
    "pycharm": {
     "name": "#%%\n"
    }
   }
  }
 ],
 "metadata": {
  "kernelspec": {
   "display_name": "Python 3",
   "language": "python",
   "name": "python3"
  },
  "language_info": {
   "codemirror_mode": {
    "name": "ipython",
    "version": 2
   },
   "file_extension": ".py",
   "mimetype": "text/x-python",
   "name": "python",
   "nbconvert_exporter": "python",
   "pygments_lexer": "ipython2",
   "version": "2.7.6"
  }
 },
 "nbformat": 4,
 "nbformat_minor": 0
}