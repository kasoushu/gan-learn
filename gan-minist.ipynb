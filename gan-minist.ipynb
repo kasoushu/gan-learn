{
 "cells": [
  {
   "cell_type": "code",
   "execution_count": 156,
   "metadata": {
    "collapsed": true
   },
   "outputs": [],
   "source": [
    "import  torch\n",
    "import torch.nn as nn\n",
    "import torchvision\n",
    "import matplotlib.pyplot as plt\n",
    "import torch.utils.data as td"
   ]
  },
  {
   "cell_type": "markdown",
   "source": [
    "定义变量"
   ],
   "metadata": {
    "collapsed": false,
    "pycharm": {
     "name": "#%% md\n"
    }
   }
  },
  {
   "cell_type": "code",
   "execution_count": 157,
   "outputs": [
    {
     "name": "stdout",
     "output_type": "stream",
     "text": [
      "run on  cpu\n"
     ]
    }
   ],
   "source": [
    "device = torch.device(\"cuda\" if torch.cuda.is_available() else \"cpu\")\n",
    "num_works = 4\n",
    "batch_size = 64\n",
    "input_dim= 100\n",
    "epochs = 20\n",
    "print(\"run on \",device.type)"
   ],
   "metadata": {
    "collapsed": false,
    "pycharm": {
     "name": "#%%\n"
    }
   }
  },
  {
   "cell_type": "code",
   "execution_count": 158,
   "outputs": [],
   "source": [
    "from typing import Iterable\n",
    "\n",
    "\n",
    "# loading data\n",
    "def loading_minist_data(batch_siz:int, works:int)->(Iterable,Iterable):\n",
    "\n",
    "    train_set = torchvision.datasets.MNIST(root=\"./data\",train=True,transform=torchvision.transforms.ToTensor(),download=True)\n",
    "    test_set = torchvision.datasets.MNIST(root=\"./data\",train=False,transform=torchvision.transforms.ToTensor(),download=True)\n",
    "    return td.DataLoader(dataset=train_set, batch_size=batch_siz, shuffle=True, num_workers=works,drop_last=True), td.DataLoader(dataset=test_set, batch_size=batch_siz, shuffle=True, num_workers=works,drop_last=True)\n"
   ],
   "metadata": {
    "collapsed": false,
    "pycharm": {
     "name": "#%%\n"
    }
   }
  },
  {
   "cell_type": "code",
   "execution_count": 159,
   "outputs": [],
   "source": [
    "class Discriminator(nn.Module):\n",
    "    def __init__(self):\n",
    "        super().__init__()\n",
    "        self.model = nn.Sequential(\n",
    "            nn.Flatten(),\n",
    "            nn.Linear(28*28,256),\n",
    "            nn.LeakyReLU(0.01),\n",
    "            nn.Linear(256,128),\n",
    "            nn.LeakyReLU(0.2),\n",
    "            nn.Linear(128,1),\n",
    "            nn.Sigmoid(),\n",
    "        ).to(device)\n",
    "        self.cnt=0\n",
    "        self.loss_metric=[]\n",
    "        self.loss_func = nn.BCELoss()\n",
    "        self.optimizer = torch.optim.Adam(self.parameters(),lr=0.02)\n",
    "        pass\n",
    "    def forward(self,inputs):\n",
    "        return self.model(inputs)\n",
    "    def train(self,inputs,targets):\n",
    "        out = self.forward(inputs)\n",
    "\n",
    "        loss = self.loss_func(out,targets)\n",
    "        self.cnt+=1\n",
    "        self.loss_metric.append(loss.item())\n",
    "        self.optimizer.zero_grad()\n",
    "        loss.backward()\n",
    "        self.optimizer.step()\n",
    "        pass\n",
    "\n",
    "class Generator(nn.Module):\n",
    "    def __init__(self,in_dim:int):\n",
    "        super(Generator, self).__init__()\n",
    "        self.model = nn.Sequential(\n",
    "            nn.Linear(in_dim, 256),\n",
    "            nn.LeakyReLU(0.02),\n",
    "            # nn.LayerNorm(200),\n",
    "            nn.Linear(256, 256),\n",
    "            nn.ReLU(True),\n",
    "            nn.Linear(256,28*28),\n",
    "            nn.Tanh()\n",
    "        ).to(device)\n",
    "        self.optimiser = torch.optim.Adam(self.parameters(), lr=0.02)\n",
    "        # counter and accumulator for progress\n",
    "        self.cnt = 0\n",
    "        self.loss_metric = []\n",
    "\n",
    "\n",
    "    def forward(self,inputs):\n",
    "        return self.model(inputs).view(batch_size,28,28)\n",
    "    def train(self,D:Discriminator,inputs,targets):\n",
    "        gen_out = self.forward(inputs)\n",
    "        # print(gen_out.shape)\n",
    "        d_out = D.forward(gen_out)\n",
    "\n",
    "        loss  = D.loss_func(d_out,targets)\n",
    "                # zero gradients, perform a backward pass, update weights\n",
    "        self.cnt+=1\n",
    "        self.loss_metric.append(loss.item())\n",
    "        self.optimiser.zero_grad()\n",
    "        loss.backward()\n",
    "        self.optimiser.step()\n",
    "\n",
    "def generate_random_seed(size):\n",
    "    random_data = torch.randn(size*batch_size).view(batch_size,size)\n",
    "    return random_data.to(device)\n"
   ],
   "metadata": {
    "collapsed": false,
    "pycharm": {
     "name": "#%%\n"
    }
   }
  },
  {
   "cell_type": "code",
   "execution_count": 160,
   "outputs": [
    {
     "name": "stdout",
     "output_type": "stream",
     "text": [
      "generate nums is run on  cpu\n"
     ]
    },
    {
     "data": {
      "text/plain": "<matplotlib.image.AxesImage at 0x139767040>"
     },
     "execution_count": 160,
     "metadata": {},
     "output_type": "execute_result"
    },
    {
     "data": {
      "text/plain": "<Figure size 432x288 with 1 Axes>",
      "image/png": "[encoded data removed]"
     },
     "metadata": {
      "needs_background": "light"
     },
     "output_type": "display_data"
    }
   ],
   "source": [
    "G = Generator(input_dim)\n",
    "\n",
    "print(\"generate nums is run on \",generate_random_seed(input_dim).device)\n",
    "\n",
    "output = G.forward(generate_random_seed(input_dim))\n",
    "# img = output.detach().numpy().reshape(28,28)\n",
    "plt.imshow(output.cpu().detach().numpy()[0], interpolation='none', cmap='Blues')"
   ],
   "metadata": {
    "collapsed": false,
    "pycharm": {
     "name": "#%%\n"
    }
   }
  },
  {
   "cell_type": "code",
   "execution_count": 161,
   "outputs": [
    {
     "name": "stdout",
     "output_type": "stream",
     "text": [
      "epoch    0\n",
      "epoch    1\n",
      "epoch    2\n",
      "epoch    3\n",
      "epoch    4\n",
      "epoch    5\n",
      "epoch    6\n",
      "epoch    7\n",
      "epoch    8\n",
      "epoch    9\n",
      "epoch    10\n",
      "epoch    11\n",
      "epoch    12\n",
      "epoch    13\n",
      "epoch    14\n",
      "epoch    15\n",
      "epoch    16\n",
      "epoch    17\n",
      "epoch    18\n",
      "epoch    19\n",
      "CPU times: user 28min 7s, sys: 9min 49s, total: 37min 57s\n",
      "Wall time: 6min 8s\n"
     ]
    }
   ],
   "source": [
    "%%time\n",
    "train_iter ,test_iter = loading_minist_data(batch_size,4)\n",
    "D = Discriminator()\n",
    "G = Generator(input_dim)\n",
    "for i in range(epochs):\n",
    "    print(\"epoch   \",i)\n",
    "\n",
    "    for tr_item,_ in train_iter:\n",
    "        tr_item.to(device)\n",
    "        D.train(tr_item,torch.ones(size=(batch_size,1),dtype=torch.float32).to(device) )\n",
    "\n",
    "        D.train(G.forward(generate_random_seed(input_dim)).detach()\n",
    "        ,torch.zeros(size=(batch_size,1),dtype=torch.float32).to(device))\n",
    "        #\n",
    "        G.train(D,generate_random_seed(input_dim),torch.ones(size=(batch_size,1),dtype=torch.float32).to(device))\n",
    "        #\n",
    "        # break"
   ],
   "metadata": {
    "collapsed": false,
    "pycharm": {
     "name": "#%%\n"
    }
   }
  },
  {
   "cell_type": "code",
   "execution_count": 162,
   "outputs": [],
   "source": [
    "output = G.forward(generate_random_seed(input_dim))\n",
    "# img = output.detach().numpy().reshape(28,28)\n",
    "# plt.imshow(output.detach().numpy()[3], interpolation='none', cmap='Blues')"
   ],
   "metadata": {
    "collapsed": false,
    "pycharm": {
     "name": "#%%\n"
    }
   }
  },
  {
   "cell_type": "code",
   "execution_count": 163,
   "outputs": [
    {
     "data": {
      "text/plain": "<Figure size 1152x576 with 6 Axes>",
      "image/png": "[encoded data removed]"
     },
     "metadata": {
      "needs_background": "light"
     },
     "output_type": "display_data"
    }
   ],
   "source": [
    "f,axarr = plt.subplots(2,3, figsize=(16,8))\n",
    "for i in range(2):\n",
    "    for j in range(3):\n",
    "        output = G.forward(generate_random_seed(input_dim))\n",
    "        img = output.detach().numpy()[i*3+j].reshape(28,28)\n",
    "        axarr[i,j].imshow(img, interpolation='none', cmap='Blues')"
   ],
   "metadata": {
    "collapsed": false,
    "pycharm": {
     "name": "#%%\n"
    }
   }
  }
 ],
 "metadata": {
  "kernelspec": {
   "display_name": "Python 3",
   "language": "python",
   "name": "python3"
  },
  "language_info": {
   "codemirror_mode": {
    "name": "ipython",
    "version": 2
   },
   "file_extension": ".py",
   "mimetype": "text/x-python",
   "name": "python",
   "nbconvert_exporter": "python",
   "pygments_lexer": "ipython2",
   "version": "2.7.6"
  }
 },
 "nbformat": 4,
 "nbformat_minor": 0
}