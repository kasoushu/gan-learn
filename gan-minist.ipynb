{
 "cells": [
  {
   "cell_type": "code",
   "execution_count": 128,
   "metadata": {
    "collapsed": true
   },
   "outputs": [],
   "source": [
    "import time\n",
    "\n",
    "import  torch\n",
    "import torch.nn as nn\n",
    "import torchvision\n",
    "import matplotlib.pyplot as plt\n",
    "import torch.utils.data as td"
   ]
  },
  {
   "cell_type": "markdown",
   "source": [
    "定义变量"
   ],
   "metadata": {
    "collapsed": false,
    "pycharm": {
     "name": "#%% md\n"
    }
   }
  },
  {
   "cell_type": "code",
   "execution_count": 129,
   "outputs": [
    {
     "name": "stdout",
     "output_type": "stream",
     "text": [
      "run on  cuda\n"
     ]
    }
   ],
   "source": [
    "device = torch.device(\"cuda\" if torch.cuda.is_available() else \"cpu\")\n",
    "num_works = 4\n",
    "batch_size = 64\n",
    "input_dim= 100\n",
    "epochs = 25\n",
    "print(\"run on \",device.type)"
   ],
   "metadata": {
    "collapsed": false,
    "pycharm": {
     "name": "#%%\n"
    }
   }
  },
  {
   "cell_type": "code",
   "execution_count": 130,
   "outputs": [],
   "source": [
    "from typing import Iterable\n",
    "\n",
    "\n",
    "# loading data\n",
    "def loading_minist_data(batch_siz:int, works:int)->(Iterable,Iterable):\n",
    "\n",
    "    train_set = torchvision.datasets.MNIST(root=\"./data\",train=True,transform=torchvision.transforms.ToTensor(),download=True)\n",
    "    test_set = torchvision.datasets.MNIST(root=\"./data\",train=False,transform=torchvision.transforms.ToTensor(),download=True)\n",
    "    return td.DataLoader(dataset=train_set, batch_size=batch_siz, shuffle=True, num_workers=works,drop_last=True), td.DataLoader(dataset=test_set, batch_size=batch_siz, shuffle=True, num_workers=works,drop_last=True)\n",
    "\n",
    "train_iter ,test_iter = loading_minist_data(batch_size,4)\n"
   ],
   "metadata": {
    "collapsed": false,
    "pycharm": {
     "name": "#%%\n"
    }
   }
  },
  {
   "cell_type": "code",
   "execution_count": 131,
   "outputs": [
    {
     "name": "stdout",
     "output_type": "stream",
     "text": [
      "train_iter len  937\n",
      "all size  59968\n"
     ]
    }
   ],
   "source": [
    "print(\"train_iter len \",len(train_iter))\n",
    "print(\"all size \",len(train_iter)*batch_size)"
   ],
   "metadata": {
    "collapsed": false,
    "pycharm": {
     "name": "#%%\n"
    }
   }
  },
  {
   "cell_type": "code",
   "execution_count": 132,
   "outputs": [],
   "source": [
    "class Discriminator(nn.Module):\n",
    "    def __init__(self):\n",
    "        super().__init__()\n",
    "        self.model = nn.Sequential(\n",
    "            nn.Flatten(),\n",
    "            nn.Linear(28*28,256),\n",
    "            nn.LeakyReLU(0.01),\n",
    "            nn.Linear(256,128),\n",
    "            nn.LeakyReLU(0.2),\n",
    "            nn.Linear(128,1),\n",
    "            nn.Sigmoid(),\n",
    "        ).to(device)\n",
    "        self.cnt=0\n",
    "        self.running_loss=0\n",
    "        self.loss_func = nn.BCELoss()\n",
    "        self.loss_metric=[]\n",
    "        self.optimizer = torch.optim.Adam(self.parameters(),lr=0.001)\n",
    "        pass\n",
    "    def forward(self,inputs):\n",
    "        return self.model(inputs)\n",
    "    def train(self,inputs,targets):\n",
    "        out = self.forward(inputs)\n",
    "        loss = self.loss_func(out,targets)\n",
    "        self.running_loss += loss.detach().item()\n",
    "        self.optimizer.zero_grad()\n",
    "        loss.backward()\n",
    "        self.optimizer.step()\n",
    "        pass\n",
    "    def evaluate_loss(self):\n",
    "        ts = self.running_loss/(len(train_iter)*batch_size)\n",
    "        self.loss_metric.append(ts)\n",
    "\n",
    "        self.running_loss=0\n",
    "\n",
    "        pass\n",
    "class Generator(nn.Module):\n",
    "    def __init__(self,in_dim:int):\n",
    "        super(Generator, self).__init__()\n",
    "        self.model = nn.Sequential(\n",
    "            nn.Linear(in_dim, 200),\n",
    "            nn.LeakyReLU(0.02),\n",
    "            # nn.LayerNorm(200),\n",
    "            nn.LayerNorm(200),\n",
    "            nn.Linear(200, 784),\n",
    "            # nn.ReLU(True),\n",
    "            # nn.Linear(256,28*28),\n",
    "            # nn.Tanh()\n",
    "            nn.Sigmoid()\n",
    "        ).to(device)\n",
    "\n",
    "        self.optimiser = torch.optim.Adam(self.parameters(), lr=0.0001)\n",
    "        # counter and accumulator for progress\n",
    "        self.loss_metric = []\n",
    "        self.running_loss =0\n",
    "    def forward(self,inputs):\n",
    "        return self.model(inputs).view(batch_size,28,28)\n",
    "    def train(self,D:Discriminator,inputs,targets):\n",
    "        gen_out = self.forward(inputs)\n",
    "        # print(gen_out.shape)\n",
    "        d_out = D.forward(gen_out)\n",
    "        loss  = D.loss_func(d_out,targets)\n",
    "        self.running_loss += loss.detach().item()\n",
    "        # print(self.running_loss)\n",
    "        self.optimiser.zero_grad()\n",
    "        loss.backward()\n",
    "        self.optimiser.step()\n",
    "    def evaluate_loss(self):\n",
    "        print(\"G running loss \",self.running_loss)\n",
    "        ts = self.running_loss/(len(train_iter)*batch_size)\n",
    "        self.loss_metric.append(ts)\n",
    "        self.running_loss=0\n",
    "        pass\n",
    "def generate_random_seed(size):\n",
    "    random_data = torch.randn(size*batch_size).view(batch_size,size)\n",
    "    return random_data.to(device)\n"
   ],
   "metadata": {
    "collapsed": false,
    "pycharm": {
     "name": "#%%\n"
    }
   }
  },
  {
   "cell_type": "code",
   "execution_count": 133,
   "outputs": [
    {
     "name": "stdout",
     "output_type": "stream",
     "text": [
      "4.500629624042516e-05\n",
      "1.8649228976791295e-08\n",
      "3.940977928252997e-09\n"
     ]
    }
   ],
   "source": [
    "D = Discriminator()\n",
    "for k in  range(3):\n",
    "    for it,_ in train_iter:\n",
    "        it = it.to(device)\n",
    "        y = torch.ones(size=(64,1),dtype=torch.float32)\n",
    "        y = y.to(device)\n",
    "        D.train(it,y)\n",
    "    # print(len(train_iter)*batch_size)\n",
    "    print(D.running_loss/(len(train_iter)*batch_size))\n",
    "    D.running_loss =0\n"
   ],
   "metadata": {
    "collapsed": false,
    "pycharm": {
     "name": "#%%\n"
    }
   }
  },
  {
   "cell_type": "code",
   "execution_count": 134,
   "outputs": [
    {
     "name": "stdout",
     "output_type": "stream",
     "text": [
      "generate nums is run on  cuda:0\n"
     ]
    },
    {
     "data": {
      "text/plain": "<matplotlib.image.AxesImage at 0x1cba87f3be0>"
     },
     "execution_count": 134,
     "metadata": {},
     "output_type": "execute_result"
    },
    {
     "data": {
      "text/plain": "<Figure size 432x288 with 1 Axes>",
      "image/png": "[encoded data removed]"
     },
     "metadata": {
      "needs_background": "light"
     },
     "output_type": "display_data"
    }
   ],
   "source": [
    "G = Generator(input_dim)\n",
    "\n",
    "print(\"generate nums is run on \",generate_random_seed(input_dim).device)\n",
    "\n",
    "output = G.forward(generate_random_seed(input_dim))\n",
    "# img = output.detach().numpy().reshape(28,28)\n",
    "plt.imshow(output.cpu().detach().numpy()[0], interpolation='none', cmap='Blues')"
   ],
   "metadata": {
    "collapsed": false,
    "pycharm": {
     "name": "#%%\n"
    }
   }
  },
  {
   "cell_type": "code",
   "execution_count": 135,
   "outputs": [
    {
     "name": "stdout",
     "output_type": "stream",
     "text": [
      "epoch  1 of 25  \n",
      "G running loss  9988.307329595089\n",
      "spend time 10.56075668334961   D loss 0.0003498051002574288 ,G loss 0.16656062115786902 \n",
      "epoch  2 of 25  \n",
      "G running loss  8359.850031375885\n",
      "spend time 10.168806791305542   D loss 0.0002794478987509588 ,G loss 0.13940518328735133 \n",
      "epoch  3 of 25  \n",
      "G running loss  8611.433709144592\n",
      "spend time 10.249592304229736   D loss 0.00025865091625144464 ,G loss 0.14360048207618384 \n",
      "epoch  4 of 25  \n",
      "G running loss  8927.152048587799\n",
      "spend time 10.575720310211182   D loss 0.00033349862127621585 ,G loss 0.14886526228301425 \n",
      "epoch  5 of 25  \n",
      "G running loss  8697.849755764008\n",
      "spend time 10.552781343460083   D loss 0.0004319129274532527 ,G loss 0.14504151807237206 \n",
      "epoch  6 of 25  \n",
      "G running loss  8098.990706443787\n",
      "spend time 10.655506372451782   D loss 0.0005504955832555731 ,G loss 0.13505520788493508 \n",
      "epoch  7 of 25  \n",
      "G running loss  7609.170108318329\n",
      "spend time 10.700387001037598   D loss 0.0007139211635652264 ,G loss 0.12688717496528698 \n",
      "epoch  8 of 25  \n",
      "G running loss  6866.948459625244\n",
      "spend time 10.75124979019165   D loss 0.0009810074336822875 ,G loss 0.11451021310741136 \n",
      "epoch  9 of 25  \n",
      "G running loss  6885.711744785309\n",
      "spend time 10.73828673362732   D loss 0.0009999139848721305 ,G loss 0.11482310140050209 \n",
      "epoch  10 of 25  \n",
      "G running loss  6300.433290481567\n",
      "spend time 10.719335079193115   D loss 0.0011816195509341545 ,G loss 0.10506325524415634 \n",
      "epoch  11 of 25  \n",
      "G running loss  6142.0462284088135\n",
      "spend time 11.178108930587769   D loss 0.0013369052451060166 ,G loss 0.10242206224000823 \n",
      "epoch  12 of 25  \n",
      "G running loss  5760.910315513611\n",
      "spend time 10.774189472198486   D loss 0.001647709673826501 ,G loss 0.09606640734247616 \n",
      "epoch  13 of 25  \n",
      "G running loss  5487.361352443695\n",
      "spend time 10.900850296020508   D loss 0.001932498300084068 ,G loss 0.09150482511412245 \n",
      "epoch  14 of 25  \n",
      "G running loss  5249.449050426483\n",
      "spend time 10.894866943359375   D loss 0.0019902651646071866 ,G loss 0.08753750417600192 \n",
      "epoch  15 of 25  \n",
      "G running loss  5224.608031272888\n",
      "spend time 11.090344667434692   D loss 0.001935729311691069 ,G loss 0.08712326626322185 \n",
      "epoch  16 of 25  \n",
      "G running loss  5136.352984905243\n",
      "spend time 11.126246929168701   D loss 0.0020032155729237866 ,G loss 0.0856515639158425 \n",
      "epoch  17 of 25  \n",
      "G running loss  4950.79718375206\n",
      "spend time 11.16115689277649   D loss 0.002087259867906179 ,G loss 0.08255731696491563 \n",
      "epoch  18 of 25  \n",
      "G running loss  4912.302073717117\n",
      "spend time 11.221989870071411   D loss 0.002114884226156117 ,G loss 0.08191538943631799 \n",
      "epoch  19 of 25  \n",
      "G running loss  4890.55704832077\n",
      "spend time 11.236951112747192   D loss 0.002129152639951371 ,G loss 0.0815527789541217 \n",
      "epoch  20 of 25  \n",
      "G running loss  4787.834117412567\n",
      "spend time 11.325714588165283   D loss 0.0021515654453426033 ,G loss 0.07983981652568982 \n",
      "epoch  21 of 25  \n",
      "G running loss  4806.909562826157\n",
      "spend time 11.399518489837646   D loss 0.002168845480050933 ,G loss 0.0801579102659111 \n",
      "epoch  22 of 25  \n",
      "G running loss  4711.888372182846\n",
      "spend time 11.404502630233765   D loss 0.0021438889645006708 ,G loss 0.07857337867167233 \n",
      "epoch  23 of 25  \n",
      "G running loss  4646.268230199814\n",
      "spend time 11.551111459732056   D loss 0.002121274097247138 ,G loss 0.07747912603721675 \n",
      "epoch  24 of 25  \n",
      "G running loss  4629.477233886719\n",
      "spend time 11.544130563735962   D loss 0.00213887249046364 ,G loss 0.07719912676572037 \n",
      "epoch  25 of 25  \n",
      "G running loss  4504.017368793488\n",
      "spend time 11.7376127243042   D loss 0.0021932661177054068 ,G loss 0.0751070132202756 \n",
      "CPU times: total: 4min 8s\n",
      "Wall time: 4min 34s\n"
     ]
    }
   ],
   "source": [
    "%%time\n",
    "D = Discriminator()\n",
    "G = Generator(input_dim)\n",
    "for i in range(epochs):\n",
    "    print(\"epoch  {} of {}  \".format(i+1,epochs))\n",
    "    time_start = time.time()\n",
    "    for tr_item,_ in train_iter:\n",
    "        tr_item = tr_item.to(device)\n",
    "        true_label = torch.ones(size=(batch_size,1),dtype=torch.float32).to(device)\n",
    "        fake_label = torch.zeros(size=(batch_size,1),dtype=torch.float32).to(device)\n",
    "        D.train(tr_item,true_label)\n",
    "\n",
    "        D.train(G.forward(generate_random_seed(input_dim)).detach() , fake_label)\n",
    "        #\n",
    "        G.train(D,generate_random_seed(input_dim),true_label)\n",
    "    D.evaluate_loss()\n",
    "    G.evaluate_loss()\n",
    "    print(\"spend time {}   D loss {} ,G loss {} \".format(time.time()-time_start,D.loss_metric[i],G.loss_metric[i]))\n",
    "\n",
    "        # break"
   ],
   "metadata": {
    "collapsed": false,
    "pycharm": {
     "name": "#%%\n"
    }
   }
  },
  {
   "cell_type": "code",
   "execution_count": 136,
   "outputs": [
    {
     "data": {
      "text/plain": "<matplotlib.image.AxesImage at 0x1cba752b220>"
     },
     "execution_count": 136,
     "metadata": {},
     "output_type": "execute_result"
    },
    {
     "data": {
      "text/plain": "<Figure size 432x288 with 1 Axes>",
      "image/png": "[encoded data removed]"
     },
     "metadata": {
      "needs_background": "light"
     },
     "output_type": "display_data"
    }
   ],
   "source": [
    "output = G.forward(generate_random_seed(input_dim))\n",
    "img = output.detach().cpu().numpy().reshape(64,28,28)\n",
    "plt.imshow(img[9], interpolation='none', cmap='Blues')"
   ],
   "metadata": {
    "collapsed": false,
    "pycharm": {
     "name": "#%%\n"
    }
   }
  },
  {
   "cell_type": "code",
   "execution_count": 137,
   "outputs": [
    {
     "data": {
      "text/plain": "<Figure size 1152x576 with 6 Axes>",
      "image/png": "[encoded data removed]"
     },
     "metadata": {
      "needs_background": "light"
     },
     "output_type": "display_data"
    }
   ],
   "source": [
    "f,axarr = plt.subplots(2,3, figsize=(16,8))\n",
    "for i in range(2):\n",
    "    for j in range(3):\n",
    "        output = G.forward(generate_random_seed(input_dim))\n",
    "        img = output.detach().cpu().numpy()[i*3+j].reshape(28,28)\n",
    "        axarr[i,j].imshow(img, interpolation='none', cmap='Blues')\n",
    "\n",
    "# for it,_ in train_iter:\n",
    "    # plt.imshow(it[0].reshape(28,28),cmap=\"Blues\")\n",
    "    # break"
   ],
   "metadata": {
    "collapsed": false,
    "pycharm": {
     "name": "#%%\n"
    }
   }
  },
  {
   "cell_type": "code",
   "execution_count": 137,
   "outputs": [],
   "source": [],
   "metadata": {
    "collapsed": false,
    "pycharm": {
     "name": "#%%\n"
    }
   }
  }
 ],
 "metadata": {
  "kernelspec": {
   "display_name": "Python 3",
   "language": "python",
   "name": "python3"
  },
  "language_info": {
   "codemirror_mode": {
    "name": "ipython",
    "version": 2
   },
   "file_extension": ".py",
   "mimetype": "text/x-python",
   "name": "python",
   "nbconvert_exporter": "python",
   "pygments_lexer": "ipython2",
   "version": "2.7.6"
  }
 },
 "nbformat": 4,
 "nbformat_minor": 0
}