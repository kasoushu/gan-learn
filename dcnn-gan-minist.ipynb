{
 "cells": [
  {
   "cell_type": "code",
   "execution_count": 66,
   "metadata": {
    "collapsed": true
   },
   "outputs": [],
   "source": [
    "import time\n",
    "import  torch\n",
    "import torch.nn as nn\n",
    "import torchvision\n",
    "import matplotlib.pyplot as plt\n",
    "import torch.utils.data as td\n",
    "import torch.nn.functional as F"
   ]
  },
  {
   "cell_type": "markdown",
   "source": [
    "定义变量"
   ],
   "metadata": {
    "collapsed": false,
    "pycharm": {
     "name": "#%% md\n"
    }
   }
  },
  {
   "cell_type": "code",
   "execution_count": 67,
   "outputs": [
    {
     "name": "stdout",
     "output_type": "stream",
     "text": [
      "run on  cuda\n"
     ]
    }
   ],
   "source": [
    "device = torch.device(\"cuda\" if torch.cuda.is_available() else \"cpu\")\n",
    "device_cpu = torch.device(\"cpu\")\n",
    "num_works = 8\n",
    "batch_size = 128\n",
    "input_dim=100\n",
    "epochs = 1\n",
    "print(\"run on \",device.type)"
   ],
   "metadata": {
    "collapsed": false,
    "pycharm": {
     "name": "#%%\n"
    }
   }
  },
  {
   "cell_type": "code",
   "execution_count": 68,
   "outputs": [],
   "source": [
    "from typing import Iterable\n",
    "# loading data\n",
    "def loading_minist_data(batch_siz:int, works:int)->(Iterable,Iterable):\n",
    "\n",
    "    train_set = torchvision.datasets.MNIST(root=\"./data\",train=True,transform=torchvision.transforms.ToTensor(),download=True)\n",
    "    test_set = torchvision.datasets.MNIST(root=\"./data\",train=False,transform=torchvision.transforms.ToTensor(),download=True)\n",
    "    return td.DataLoader(dataset=train_set, batch_size=batch_siz, shuffle=True, num_workers=works,drop_last=True), td.DataLoader(dataset=test_set, batch_size=batch_siz, shuffle=True, num_workers=works,drop_last=True)\n"
   ],
   "metadata": {
    "collapsed": false,
    "pycharm": {
     "name": "#%%\n"
    }
   }
  },
  {
   "cell_type": "code",
   "execution_count": 69,
   "outputs": [],
   "source": [
    "class Discriminator(nn.Module):\n",
    "    def __init__(self):\n",
    "        super().__init__()\n",
    "        self.model = nn.Sequential(\n",
    "\n",
    "                        torch.nn.Conv2d(1,64,kernel_size=3,stride=1,padding=1),\n",
    "                        torch.nn.ReLU(),\n",
    "                        torch.nn.Conv2d(64,128,kernel_size=3,stride=1,padding=1),\n",
    "                        torch.nn.ReLU(),\n",
    "                        torch.nn.MaxPool2d(stride=2,kernel_size=2),\n",
    "                        nn.Flatten(),\n",
    "                        torch.nn.Linear(14*14*128,1024),\n",
    "                        torch.nn.ReLU(),\n",
    "                        torch.nn.Dropout(p=0.5),\n",
    "                        torch.nn.Linear(1024, 10)\n",
    "        #     nn.Flatten(),\n",
    "        #     nn.Linear(28*28,128),\n",
    "        #     nn.ReLU(),\n",
    "        #     nn.Linear(128,10)\n",
    "        ).to(device)\n",
    "        self.cnt=0\n",
    "        self.loss_metric=[]\n",
    "        self.loss_func = nn.BCELoss()\n",
    "        self.optimizer = torch.optim.Adam(self.parameters())\n",
    "        pass\n",
    "    def forward(self,inputs):\n",
    "        for i in self.model:\n",
    "            # print(inputs.shape)\n",
    "            inputs = i(inputs)\n",
    "        return inputs\n",
    "        # return self.model(inputs)\n",
    "    def train(self,inputs,targets):\n",
    "        out = self.forward(inputs)\n",
    "\n",
    "        loss = self.loss_func(out,targets)\n",
    "        self.cnt+=1\n",
    "        self.loss_metric.append(loss.item())\n",
    "        self.optimizer.zero_grad()\n",
    "        loss.backward()\n",
    "        self.optimizer.step()\n",
    "        pass\n",
    "\n",
    "class Generator(nn.Module):\n",
    "    def __init__(self,in_dim:int):\n",
    "        super(Generator, self).__init__()\n",
    "        self.model = nn.Sequential(\n",
    "            nn.Linear(in_dim, 200),\n",
    "            nn.LeakyReLU(0.02),\n",
    "            nn.LayerNorm(200),\n",
    "            nn.Linear(200, 784),\n",
    "            nn.Sigmoid()\n",
    "        ).to(device)\n",
    "        self.optimiser = torch.optim.Adam(self.parameters(), lr=0.0001)\n",
    "        # counter and accumulator for progress\n",
    "        self.cnt = 0\n",
    "        self.loss_metric = []\n",
    "\n",
    "\n",
    "    def forward(self,inputs):\n",
    "        return self.model(inputs).view(batch_size,28,28)\n",
    "    def train(self,D:Discriminator,inputs,targets):\n",
    "        gen_out = self.forward(inputs)\n",
    "        # print(gen_out.shape)\n",
    "        d_out = D.forward(gen_out)\n",
    "\n",
    "        loss  = D.loss_func(d_out,targets)\n",
    "                # zero gradients, perform a backward pass, update weights\n",
    "        self.cnt+=1\n",
    "        self.loss_metric.append(loss.item())\n",
    "        self.optimiser.zero_grad()\n",
    "        loss.backward()\n",
    "        self.optimiser.step()\n",
    "\n",
    "def generate_random_seed(size):\n",
    "    random_data = torch.randn(size*batch_size).view(batch_size,size)\n",
    "    return random_data.to(device)\n"
   ],
   "metadata": {
    "collapsed": false,
    "pycharm": {
     "name": "#%%\n"
    }
   }
  },
  {
   "cell_type": "code",
   "execution_count": 70,
   "outputs": [],
   "source": [
    "# D = Discriminator()\n",
    "# t = torch.randn(size=(1,1,28,28)).to(device)\n",
    "# D.forward(t)"
   ],
   "metadata": {
    "collapsed": false,
    "pycharm": {
     "name": "#%%\n"
    }
   }
  },
  {
   "cell_type": "code",
   "execution_count": 71,
   "outputs": [
    {
     "name": "stdout",
     "output_type": "stream",
     "text": [
      "start epoch 1 of 10 \n",
      "tensor(56822, device='cuda:0')\n",
      "tensor(9812, device='cuda:0')\n",
      "spend time34.353357553482056,train_loss : 0.0012975498606014547, training_acc 94.8551025390625 , testing_acc 98.2772445678711\n",
      "start epoch 2 of 10 \n",
      "tensor(58986, device='cuda:0')\n",
      "tensor(9809, device='cuda:0')\n",
      "spend time34.224644899368286,train_loss : 0.00038040180817962467, training_acc 98.4675521850586 , testing_acc 98.24720001220703\n",
      "start epoch 3 of 10 \n",
      "tensor(59279, device='cuda:0')\n",
      "tensor(9845, device='cuda:0')\n",
      "spend time34.48666548728943,train_loss : 0.00025721571217055054, training_acc 98.95667266845703 , testing_acc 98.60777282714844\n",
      "start epoch 4 of 10 \n",
      "tensor(59460, device='cuda:0')\n",
      "tensor(9855, device='cuda:0')\n",
      "spend time34.907498836517334,train_loss : 0.00017955032365274453, training_acc 99.25881958007812 , testing_acc 98.70793151855469\n",
      "start epoch 5 of 10 \n",
      "tensor(59554, device='cuda:0')\n",
      "tensor(9857, device='cuda:0')\n",
      "spend time35.2940878868103,train_loss : 0.0001403366707759971, training_acc 99.41573333740234 , testing_acc 98.72796630859375\n",
      "start epoch 6 of 10 \n",
      "tensor(59584, device='cuda:0')\n",
      "tensor(9850, device='cuda:0')\n",
      "spend time35.3767204284668,train_loss : 0.00012675903203948554, training_acc 99.4658203125 , testing_acc 98.65785217285156\n",
      "start epoch 7 of 10 \n",
      "tensor(59659, device='cuda:0')\n",
      "tensor(9881, device='cuda:0')\n",
      "spend time35.42548751831055,train_loss : 0.00010189603591166935, training_acc 99.59101867675781 , testing_acc 98.96835327148438\n",
      "start epoch 8 of 10 \n",
      "tensor(59707, device='cuda:0')\n",
      "tensor(9881, device='cuda:0')\n",
      "spend time35.29548692703247,train_loss : 7.862516779845013e-05, training_acc 99.671142578125 , testing_acc 98.96835327148438\n",
      "start epoch 9 of 10 \n",
      "tensor(59694, device='cuda:0')\n",
      "tensor(9885, device='cuda:0')\n",
      "spend time35.2866997718811,train_loss : 8.1447872714311e-05, training_acc 99.64944458007812 , testing_acc 99.00841522216797\n",
      "start epoch 10 of 10 \n",
      "tensor(59740, device='cuda:0')\n",
      "tensor(9868, device='cuda:0')\n",
      "spend time36.116225242614746,train_loss : 5.951491209164183e-05, training_acc 99.72623443603516 , testing_acc 98.83814239501953\n",
      "CPU times: total: 5min 20s\n",
      "Wall time: 5min 51s\n"
     ]
    }
   ],
   "source": [
    "%%time\n",
    "loss_metric =[]\n",
    "train_acc_metric=[]\n",
    "test_acc_metric =[]\n",
    "def add_metric(x,y,z):\n",
    "    loss_metric.append(x)\n",
    "    train_acc_metric.append(y)\n",
    "    test_acc_metric.append(z)\n",
    "D = Discriminator()\n",
    "train_iter ,test_iter = loading_minist_data(batch_size,4)\n",
    "epochs = 10\n",
    "cost = nn.CrossEntropyLoss()\n",
    "for k in range(epochs):\n",
    "    print(\"start epoch {} of {} \".format(k+1,epochs) )\n",
    "    running_loss = 0\n",
    "    running_acc = 0\n",
    "    testing_acc = 0\n",
    "    time_start = time.time()\n",
    "    for it,y in train_iter:\n",
    "        it = it.to(device)\n",
    "        y = y.to(device)\n",
    "        out = D.forward(it)\n",
    "        loss = cost(out,y)\n",
    "        D.optimizer.zero_grad()\n",
    "        loss.backward()\n",
    "        D.optimizer.step()\n",
    "        running_loss +=loss.detach().item()\n",
    "        _ ,pred =  torch.max(out,1)\n",
    "        running_acc +=  torch.sum(pred==y.data)\n",
    "    for tes,y in test_iter:\n",
    "        tes = tes.to(device)\n",
    "        y = y.to(device)\n",
    "        outputs  = D.model(tes)\n",
    "        _ ,pred =  torch.max(outputs,1)\n",
    "        testing_acc += torch.sum(pred==y.data)\n",
    "    print(running_acc)\n",
    "    print(testing_acc)\n",
    "    len1 = len(train_iter)*batch_size\n",
    "    len2 = len(test_iter)*batch_size\n",
    "    t_l,t_a,r_a = running_loss/len1,100*running_acc/len1,100*testing_acc/len2\n",
    "    # t_a = t_a.to(device_cpu)\n",
    "    # r_a = r_a.to(device_cpu)\n",
    "    add_metric(t_l,t_a.to(device_cpu),r_a.to(device_cpu))\n",
    "    # print(running_loss * 100 / len(train_iter)train_iter)\n",
    "    print(\"spend time{},train_loss : {}, training_acc {} , testing_acc {}\".format(time.time()-time_start,\n",
    "                                                                                t_l,t_a,r_a\n",
    "                                                                                  ))\n",
    "# output = G.forward(generate_random_seed(input_dim))\n",
    "# img = output.detach().numpy().reshape(28,28)\n",
    "# plt.imshow(output.cpu().detach().numpy()[0], interpolation='none', cmap='Blues')"
   ],
   "metadata": {
    "collapsed": false,
    "pycharm": {
     "name": "#%%\n"
    }
   }
  },
  {
   "cell_type": "code",
   "execution_count": 71,
   "outputs": [],
   "source": [],
   "metadata": {
    "collapsed": false,
    "pycharm": {
     "name": "#%%\n"
    }
   }
  },
  {
   "cell_type": "markdown",
   "source": [],
   "metadata": {
    "collapsed": false
   }
  },
  {
   "cell_type": "code",
   "execution_count": 74,
   "outputs": [
    {
     "data": {
      "text/plain": "<Figure size 432x288 with 1 Axes>",
      "image/png": "[encoded data removed]"
     },
     "metadata": {
      "needs_background": "light"
     },
     "output_type": "display_data"
    },
    {
     "data": {
      "text/plain": "<Figure size 432x288 with 1 Axes>",
      "image/png": "[encoded data removed]"
     },
     "metadata": {
      "needs_background": "light"
     },
     "output_type": "display_data"
    }
   ],
   "source": [
    "from matplotlib.pyplot import  MultipleLocator\n",
    "x = [i for i in range(epochs)]\n",
    "plt.figure(1)\n",
    "plt.plot(x,loss_metric,label=\"loss\")\n",
    "plt.figure(2)\n",
    "plt.plot(x,train_acc_metric,label=\"train_acc\")\n",
    "plt.plot(x,test_acc_metric,label=\"test_acc\")\n",
    "# ax = plt.gca()\n",
    "# ax.yaxis.set_major_locator(MultipleLocator(1))\n",
    "plt.legend()\n",
    "plt.show()"
   ],
   "metadata": {
    "collapsed": false,
    "pycharm": {
     "name": "#%%\n"
    }
   }
  },
  {
   "cell_type": "code",
   "execution_count": 73,
   "outputs": [],
   "source": [
    "# x = torch.randn(size=(64,10)\n",
    "#             )\n",
    "# y = torch.randint(0,10,size=(64,1))\n",
    "# _,pred = torch.max(x,1)\n",
    "# # torch.sum(pred==y)\n"
   ],
   "metadata": {
    "collapsed": false,
    "pycharm": {
     "name": "#%%\n"
    }
   }
  }
 ],
 "metadata": {
  "kernelspec": {
   "display_name": "Python 3",
   "language": "python",
   "name": "python3"
  },
  "language_info": {
   "codemirror_mode": {
    "name": "ipython",
    "version": 2
   },
   "file_extension": ".py",
   "mimetype": "text/x-python",
   "name": "python",
   "nbconvert_exporter": "python",
   "pygments_lexer": "ipython2",
   "version": "2.7.6"
  }
 },
 "nbformat": 4,
 "nbformat_minor": 0
}