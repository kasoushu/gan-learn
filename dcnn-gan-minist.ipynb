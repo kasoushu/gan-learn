{
 "cells": [
  {
   "cell_type": "code",
   "execution_count": 1,
   "metadata": {
    "collapsed": true
   },
   "outputs": [],
   "source": [
    "import  torch\n",
    "import torch.nn as nn\n",
    "import torchvision\n",
    "import matplotlib.pyplot as plt\n",
    "import torch.utils.data as td\n",
    "import torch.nn.functional as F"
   ]
  },
  {
   "cell_type": "markdown",
   "metadata": {
    "collapsed": false,
    "pycharm": {
     "name": "#%% md\n"
    }
   },
   "source": [
    "定义变量"
   ]
  },
  {
   "cell_type": "code",
   "execution_count": 2,
   "metadata": {
    "collapsed": false,
    "pycharm": {
     "name": "#%%\n"
    }
   },
   "outputs": [
    {
     "name": "stdout",
     "output_type": "stream",
     "text": [
      "run on  cpu\n"
     ]
    }
   ],
   "source": [
    "device = torch.device(\"cuda\" if torch.cuda.is_available() else \"cpu\")\n",
    "num_works = 4\n",
    "batch_size = 64\n",
    "input_dim=100\n",
    "epochs = 1\n",
    "print(\"run on \",device.type)"
   ]
  },
  {
   "cell_type": "code",
   "execution_count": 3,
   "metadata": {
    "collapsed": false,
    "pycharm": {
     "name": "#%%\n"
    }
   },
   "outputs": [],
   "source": [
    "from typing import Iterable\n",
    "\n",
    "\n",
    "# loading data\n",
    "def loading_minist_data(batch_siz:int, works:int)->(Iterable,Iterable):\n",
    "\n",
    "    train_set = torchvision.datasets.MNIST(root=\"./data\",train=True,transform=torchvision.transforms.ToTensor(),download=True)\n",
    "    test_set = torchvision.datasets.MNIST(root=\"./data\",train=False,transform=torchvision.transforms.ToTensor(),download=True)\n",
    "    return td.DataLoader(dataset=train_set, batch_size=batch_siz, shuffle=True, num_workers=works,drop_last=True), td.DataLoader(dataset=test_set, batch_size=batch_siz, shuffle=True, num_workers=works,drop_last=True)\n"
   ]
  },
  {
   "cell_type": "code",
   "execution_count": 4,
   "metadata": {
    "collapsed": false,
    "pycharm": {
     "name": "#%%\n"
    }
   },
   "outputs": [],
   "source": [
    "class Discriminator(nn.Module):\n",
    "    def __init__(self):\n",
    "        super().__init__()\n",
    "        self.model = nn.Sequential(\n",
    "            # 28*28 -> (28 )/2 = 12*12\n",
    "            # nn.Conv2d(1, 32,kernel_size=3,padding=1, stride=2,dtype=torch.float32),\n",
    "            # nn.LeakyReLU(0.01),\n",
    "            # 14,14 -> 7*7\n",
    "            # nn.Conv2d(32,64,kernel_size=3,padding=1,stride=2,dtype=torch.float32),\n",
    "            # nn.BatchNorm2d(64),\n",
    "            # nn.LeakyReLU(0.01),\n",
    "            # 10 filters to 10 filters\n",
    "            # 7*7 -> 3*3\n",
    "            # nn.Conv2d(64, 128, kernel_size=3,stride=2,dtype=torch.float32),\n",
    "            # nn.LeakyReLU(0.02),\n",
    "            # nn.BatchNorm2d(128),\n",
    "            nn.Flatten(),\n",
    "            # nn.Linear(128*3*3,10),\n",
    "            nn.Linear(28*28,128),\n",
    "            nn.ReLU(),\n",
    "            nn.Linear(128,10),\n",
    "            nn.Sigmoid()\n",
    "        ).to(device)\n",
    "        self.cnt=0\n",
    "        self.loss_metric=[]\n",
    "        self.loss_func = nn.BCELoss()\n",
    "        self.optimizer = torch.optim.Adam(self.parameters())\n",
    "        pass\n",
    "    def forward(self,inputs):\n",
    "        for i in self.model:\n",
    "            # print(inputs.shape)\n",
    "            inputs = i(inputs)\n",
    "        return inputs\n",
    "        # return self.model(inputs)\n",
    "    def train(self,inputs,targets):\n",
    "        out = self.forward(inputs)\n",
    "\n",
    "        loss = self.loss_func(out,targets)\n",
    "        self.cnt+=1\n",
    "        self.loss_metric.append(loss.item())\n",
    "        self.optimizer.zero_grad()\n",
    "        loss.backward()\n",
    "        self.optimizer.step()\n",
    "        pass\n",
    "\n",
    "class Generator(nn.Module):\n",
    "    def __init__(self,in_dim:int):\n",
    "        super(Generator, self).__init__()\n",
    "        self.model = nn.Sequential(\n",
    "            nn.Linear(in_dim, 200),\n",
    "            nn.LeakyReLU(0.02),\n",
    "            nn.LayerNorm(200),\n",
    "            nn.Linear(200, 784),\n",
    "            nn.Sigmoid()\n",
    "        ).to(device)\n",
    "        self.optimiser = torch.optim.Adam(self.parameters(), lr=0.0001)\n",
    "        # counter and accumulator for progress\n",
    "        self.cnt = 0\n",
    "        self.loss_metric = []\n",
    "\n",
    "\n",
    "    def forward(self,inputs):\n",
    "        return self.model(inputs).view(batch_size,28,28)\n",
    "    def train(self,D:Discriminator,inputs,targets):\n",
    "        gen_out = self.forward(inputs)\n",
    "        # print(gen_out.shape)\n",
    "        d_out = D.forward(gen_out)\n",
    "\n",
    "        loss  = D.loss_func(d_out,targets)\n",
    "                # zero gradients, perform a backward pass, update weights\n",
    "        self.cnt+=1\n",
    "        self.loss_metric.append(loss.item())\n",
    "        self.optimiser.zero_grad()\n",
    "        loss.backward()\n",
    "        self.optimiser.step()\n",
    "\n",
    "def generate_random_seed(size):\n",
    "    random_data = torch.randn(size*batch_size).view(batch_size,size)\n",
    "    return random_data.to(device)\n"
   ]
  },
  {
   "cell_type": "code",
   "execution_count": 5,
   "metadata": {
    "collapsed": false,
    "pycharm": {
     "name": "#%%\n"
    }
   },
   "outputs": [
    {
     "name": "stdout",
     "output_type": "stream",
     "text": [
      "generate nums is run on  cpu\n",
      "CPU times: user 32.9 s, sys: 5.97 s, total: 38.8 s\n",
      "Wall time: 7.86 s\n"
     ]
    }
   ],
   "source": [
    "%%time\n",
    "G = Generator(input_dim)\n",
    "D = Discriminator()\n",
    "train_iter ,test_iter = loading_minist_data(batch_size,4)\n",
    "print(\"generate nums is run on \",generate_random_seed(input_dim).device)\n",
    "\n",
    "for k in range(epochs):\n",
    "\n",
    "    for it,y in train_iter:\n",
    "    # print(y)\n",
    "        out = D.forward(it)\n",
    "    # y = torch.reshape(y,out.shape)\n",
    "        loss = F.cross_entropy(out,y)\n",
    "        # print(loss.item())\n",
    "        # print(loss.sum())\n",
    "    # print(loss)\n",
    "        D.optimizer.zero_grad()\n",
    "        loss.backward()\n",
    "        D.optimizer.step()\n",
    "        # break\n",
    "    # break\n",
    "# output = G.forward(generate_random_seed(input_dim))\n",
    "# img = output.detach().numpy().reshape(28,28)\n",
    "# plt.imshow(output.cpu().detach().numpy()[0], interpolation='none', cmap='Blues')"
   ]
  },
  {
   "cell_type": "code",
   "execution_count": 6,
   "metadata": {
    "collapsed": false,
    "pycharm": {
     "name": "#%%\n"
    }
   },
   "outputs": [],
   "source": [
    "loss_metric = []\n",
    "cnt=0\n",
    "for it,y in test_iter:\n",
    "    out = D.forward(it)\n",
    "    loss = F.cross_entropy(out,y)\n",
    "    cnt+=1\n",
    "    if(cnt%10==0):\n",
    "        loss_metric.append(loss.item())\n"
   ]
  },
  {
   "cell_type": "code",
   "execution_count": 31,
   "metadata": {
    "collapsed": false,
    "pycharm": {
     "name": "#%%\n"
    }
   },
   "outputs": [
    {
     "name": "stdout",
     "output_type": "stream",
     "text": [
      "[1.547363042831421, 1.523353934288025, 1.5411396026611328, 1.555657148361206, 1.5328975915908813, 1.5116971731185913, 1.5261415243148804, 1.5566644668579102, 1.54177725315094, 1.5050500631332397, 1.535434603691101, 1.5451445579528809, 1.5747623443603516, 1.5445125102996826, 1.5558316707611084]\n",
      "torch.Size([64, 1, 28, 28])\n"
     ]
    },
    {
     "ename": "ValueError",
     "evalue": "Tensor uint8 expected, got torch.float32",
     "output_type": "error",
     "traceback": [
      "\u001b[0;31m---------------------------------------------------------------------------\u001b[0m",
      "\u001b[0;31mValueError\u001b[0m                                Traceback (most recent call last)",
      "\u001b[1;32m/Users/jck/PycharmProjects/gan-learn/dcnn-gan-minist.ipynb Cell 8'\u001b[0m in \u001b[0;36m<cell line: 7>\u001b[0;34m()\u001b[0m\n\u001b[1;32m      <a href='vscode-notebook-cell:/Users/jck/PycharmProjects/gan-learn/dcnn-gan-minist.ipynb#ch0000007?line=4'>5</a>\u001b[0m \u001b[39mprint\u001b[39m(img\u001b[39m.\u001b[39mshape)\n\u001b[1;32m      <a href='vscode-notebook-cell:/Users/jck/PycharmProjects/gan-learn/dcnn-gan-minist.ipynb#ch0000007?line=5'>6</a>\u001b[0m boxes \u001b[39m=\u001b[39m torch\u001b[39m.\u001b[39mtensor([[\u001b[39m135\u001b[39m, \u001b[39m37\u001b[39m, \u001b[39m160\u001b[39m, \u001b[39m198\u001b[39m]], dtype\u001b[39m=\u001b[39mtorch\u001b[39m.\u001b[39mint8)\n\u001b[0;32m----> <a href='vscode-notebook-cell:/Users/jck/PycharmProjects/gan-learn/dcnn-gan-minist.ipynb#ch0000007?line=6'>7</a>\u001b[0m img0\u001b[39m=\u001b[39mtorchvision\u001b[39m.\u001b[39;49mutils\u001b[39m.\u001b[39;49mdraw_bounding_boxes(image\u001b[39m=\u001b[39;49mimg0,boxes\u001b[39m=\u001b[39;49mboxes,labels\u001b[39m=\u001b[39;49m\u001b[39m\"\u001b[39;49m\u001b[39mimg0\u001b[39;49m\u001b[39m\"\u001b[39;49m)\n",
      "File \u001b[0;32m~/mambaforge/envs/py39/lib/python3.9/site-packages/torch/autograd/grad_mode.py:28\u001b[0m, in \u001b[0;36m_DecoratorContextManager.__call__.<locals>.decorate_context\u001b[0;34m(*args, **kwargs)\u001b[0m\n\u001b[1;32m     <a href='file:///Users/jck/mambaforge/envs/py39/lib/python3.9/site-packages/torch/autograd/grad_mode.py?line=24'>25</a>\u001b[0m \u001b[39m@functools\u001b[39m\u001b[39m.\u001b[39mwraps(func)\n\u001b[1;32m     <a href='file:///Users/jck/mambaforge/envs/py39/lib/python3.9/site-packages/torch/autograd/grad_mode.py?line=25'>26</a>\u001b[0m \u001b[39mdef\u001b[39;00m \u001b[39mdecorate_context\u001b[39m(\u001b[39m*\u001b[39margs, \u001b[39m*\u001b[39m\u001b[39m*\u001b[39mkwargs):\n\u001b[1;32m     <a href='file:///Users/jck/mambaforge/envs/py39/lib/python3.9/site-packages/torch/autograd/grad_mode.py?line=26'>27</a>\u001b[0m     \u001b[39mwith\u001b[39;00m \u001b[39mself\u001b[39m\u001b[39m.\u001b[39m\u001b[39m__class__\u001b[39m():\n\u001b[0;32m---> <a href='file:///Users/jck/mambaforge/envs/py39/lib/python3.9/site-packages/torch/autograd/grad_mode.py?line=27'>28</a>\u001b[0m         \u001b[39mreturn\u001b[39;00m func(\u001b[39m*\u001b[39;49margs, \u001b[39m*\u001b[39;49m\u001b[39m*\u001b[39;49mkwargs)\n",
      "File \u001b[0;32m~/mambaforge/envs/py39/lib/python3.9/site-packages/torchvision/utils.py:179\u001b[0m, in \u001b[0;36mdraw_bounding_boxes\u001b[0;34m(image, boxes, labels, colors, fill, width, font, font_size)\u001b[0m\n\u001b[1;32m    <a href='file:///Users/jck/mambaforge/envs/py39/lib/python3.9/site-packages/torchvision/utils.py?line=176'>177</a>\u001b[0m     \u001b[39mraise\u001b[39;00m \u001b[39mTypeError\u001b[39;00m(\u001b[39mf\u001b[39m\u001b[39m\"\u001b[39m\u001b[39mTensor expected, got \u001b[39m\u001b[39m{\u001b[39;00m\u001b[39mtype\u001b[39m(image)\u001b[39m}\u001b[39;00m\u001b[39m\"\u001b[39m)\n\u001b[1;32m    <a href='file:///Users/jck/mambaforge/envs/py39/lib/python3.9/site-packages/torchvision/utils.py?line=177'>178</a>\u001b[0m \u001b[39melif\u001b[39;00m image\u001b[39m.\u001b[39mdtype \u001b[39m!=\u001b[39m torch\u001b[39m.\u001b[39muint8:\n\u001b[0;32m--> <a href='file:///Users/jck/mambaforge/envs/py39/lib/python3.9/site-packages/torchvision/utils.py?line=178'>179</a>\u001b[0m     \u001b[39mraise\u001b[39;00m \u001b[39mValueError\u001b[39;00m(\u001b[39mf\u001b[39m\u001b[39m\"\u001b[39m\u001b[39mTensor uint8 expected, got \u001b[39m\u001b[39m{\u001b[39;00mimage\u001b[39m.\u001b[39mdtype\u001b[39m}\u001b[39;00m\u001b[39m\"\u001b[39m)\n\u001b[1;32m    <a href='file:///Users/jck/mambaforge/envs/py39/lib/python3.9/site-packages/torchvision/utils.py?line=179'>180</a>\u001b[0m \u001b[39melif\u001b[39;00m image\u001b[39m.\u001b[39mdim() \u001b[39m!=\u001b[39m \u001b[39m3\u001b[39m:\n\u001b[1;32m    <a href='file:///Users/jck/mambaforge/envs/py39/lib/python3.9/site-packages/torchvision/utils.py?line=180'>181</a>\u001b[0m     \u001b[39mraise\u001b[39;00m \u001b[39mValueError\u001b[39;00m(\u001b[39m\"\u001b[39m\u001b[39mPass individual images, not batches\u001b[39m\u001b[39m\"\u001b[39m)\n",
      "\u001b[0;31mValueError\u001b[0m: Tensor uint8 expected, got torch.float32"
     ]
    }
   ],
   "source": [
    "print(loss_metric)\n",
    "output = G.forward(generate_random_seed(input_dim))\n",
    "img = output.reshape(64,1,28,28)\n",
    "img0 = img[0]\n",
    "print(img.shape)\n",
    "boxes = torch.tensor([[135, 37, 160, 198]], dtype=torch.int8)\n",
    "img0=torchvision.utils.draw_bounding_boxes(image=img0,boxes=boxes,labels=\"img0\")\n",
    "# torchvision.utils.save_image(img,\"imgs/%d.png\" % 0)\n",
    "# plt.imshow(img0, interpolation='none', cmap='Blues')"
   ]
  },
  {
   "cell_type": "code",
   "execution_count": null,
   "metadata": {},
   "outputs": [],
   "source": []
  }
 ],
 "metadata": {
  "kernelspec": {
   "display_name": "Python 3",
   "language": "python",
   "name": "python3"
  },
  "language_info": {
   "codemirror_mode": {
    "name": "ipython",
    "version": 3
   },
   "file_extension": ".py",
   "mimetype": "text/x-python",
   "name": "python",
   "nbconvert_exporter": "python",
   "pygments_lexer": "ipython3",
   "version": "3.9.12"
  }
 },
 "nbformat": 4,
 "nbformat_minor": 0
}
